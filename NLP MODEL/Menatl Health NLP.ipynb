{
 "cells": [
  {
   "cell_type": "markdown",
   "metadata": {},
   "source": [
    "\n",
    "<center ><h1>Automated Mental Health Assessment via NLP and Machine Learning</h1></center>\n"
   ]
  },
  {
   "cell_type": "markdown",
   "metadata": {},
   "source": [
    "<h3> IMPORTING LIBRARIES  </h3>"
   ]
  },
  {
   "cell_type": "code",
   "execution_count": 1,
   "metadata": {},
   "outputs": [],
   "source": [
    "import pandas as pd \n",
    "import seaborn as sns\n",
    "import matplotlib.pyplot as plt \n",
    "import numpy as np\n",
    "import nltk  as nltk"
   ]
  },
  {
   "cell_type": "markdown",
   "metadata": {},
   "source": [
    "### DATA PREPROCESSING "
   ]
  },
  {
   "cell_type": "code",
   "execution_count": 2,
   "metadata": {},
   "outputs": [],
   "source": [
    "df_nlp=pd.read_csv('Mental_Health_Dataset.csv')"
   ]
  },
  {
   "cell_type": "code",
   "execution_count": 3,
   "metadata": {},
   "outputs": [
    {
     "data": {
      "text/html": [
       "<div>\n",
       "<style scoped>\n",
       "    .dataframe tbody tr th:only-of-type {\n",
       "        vertical-align: middle;\n",
       "    }\n",
       "\n",
       "    .dataframe tbody tr th {\n",
       "        vertical-align: top;\n",
       "    }\n",
       "\n",
       "    .dataframe thead th {\n",
       "        text-align: right;\n",
       "    }\n",
       "</style>\n",
       "<table border=\"1\" class=\"dataframe\">\n",
       "  <thead>\n",
       "    <tr style=\"text-align: right;\">\n",
       "      <th></th>\n",
       "      <th>Unnamed: 0</th>\n",
       "      <th>statement</th>\n",
       "      <th>status</th>\n",
       "    </tr>\n",
       "  </thead>\n",
       "  <tbody>\n",
       "    <tr>\n",
       "      <th>0</th>\n",
       "      <td>53019</td>\n",
       "      <td>My anxiety is telling me not to be honest/vuln...</td>\n",
       "      <td>Anxiety</td>\n",
       "    </tr>\n",
       "    <tr>\n",
       "      <th>1</th>\n",
       "      <td>35494</td>\n",
       "      <td>Worried I have ovarian cancer. The more I'm on...</td>\n",
       "      <td>Anxiety</td>\n",
       "    </tr>\n",
       "    <tr>\n",
       "      <th>2</th>\n",
       "      <td>35605</td>\n",
       "      <td>For HA Sufferers with different anxieties than...</td>\n",
       "      <td>Anxiety</td>\n",
       "    </tr>\n",
       "    <tr>\n",
       "      <th>3</th>\n",
       "      <td>35707</td>\n",
       "      <td>Eye floaters from stress? Hello, I recently we...</td>\n",
       "      <td>Anxiety</td>\n",
       "    </tr>\n",
       "    <tr>\n",
       "      <th>4</th>\n",
       "      <td>315</td>\n",
       "      <td>There is excessive anxiety today, .And, there ...</td>\n",
       "      <td>Anxiety</td>\n",
       "    </tr>\n",
       "    <tr>\n",
       "      <th>5</th>\n",
       "      <td>52795</td>\n",
       "      <td>how did buspirone/buspar make you feel? did yo...</td>\n",
       "      <td>Anxiety</td>\n",
       "    </tr>\n",
       "    <tr>\n",
       "      <th>6</th>\n",
       "      <td>351</td>\n",
       "      <td>Why is it that if there are a lot of people ta...</td>\n",
       "      <td>Anxiety</td>\n",
       "    </tr>\n",
       "    <tr>\n",
       "      <th>7</th>\n",
       "      <td>149</td>\n",
       "      <td>I need adit not for stalking or for strange th...</td>\n",
       "      <td>Anxiety</td>\n",
       "    </tr>\n",
       "    <tr>\n",
       "      <th>8</th>\n",
       "      <td>35460</td>\n",
       "      <td>Fuck lymph nodes I spent about two months comp...</td>\n",
       "      <td>Anxiety</td>\n",
       "    </tr>\n",
       "    <tr>\n",
       "      <th>9</th>\n",
       "      <td>457</td>\n",
       "      <td>confused and restless. This heart seems to die...</td>\n",
       "      <td>Anxiety</td>\n",
       "    </tr>\n",
       "  </tbody>\n",
       "</table>\n",
       "</div>"
      ],
      "text/plain": [
       "   Unnamed: 0                                          statement   status\n",
       "0       53019  My anxiety is telling me not to be honest/vuln...  Anxiety\n",
       "1       35494  Worried I have ovarian cancer. The more I'm on...  Anxiety\n",
       "2       35605  For HA Sufferers with different anxieties than...  Anxiety\n",
       "3       35707  Eye floaters from stress? Hello, I recently we...  Anxiety\n",
       "4         315  There is excessive anxiety today, .And, there ...  Anxiety\n",
       "5       52795  how did buspirone/buspar make you feel? did yo...  Anxiety\n",
       "6         351  Why is it that if there are a lot of people ta...  Anxiety\n",
       "7         149  I need adit not for stalking or for strange th...  Anxiety\n",
       "8       35460  Fuck lymph nodes I spent about two months comp...  Anxiety\n",
       "9         457  confused and restless. This heart seems to die...  Anxiety"
      ]
     },
     "execution_count": 3,
     "metadata": {},
     "output_type": "execute_result"
    }
   ],
   "source": [
    "df_nlp.head(10)"
   ]
  },
  {
   "cell_type": "code",
   "execution_count": 4,
   "metadata": {},
   "outputs": [],
   "source": [
    "df_nlp.dropna(subset=['statement'],inplace=True)"
   ]
  },
  {
   "cell_type": "code",
   "execution_count": 5,
   "metadata": {},
   "outputs": [],
   "source": [
    "df_nlp['statement']=df_nlp['statement'].astype(str)"
   ]
  },
  {
   "cell_type": "markdown",
   "metadata": {},
   "source": [
    "### DOWNLOADING THE RESOURCES "
   ]
  },
  {
   "cell_type": "code",
   "execution_count": 6,
   "metadata": {},
   "outputs": [
    {
     "name": "stderr",
     "output_type": "stream",
     "text": [
      "[nltk_data] Downloading package punkt to\n",
      "[nltk_data]     /Users/mehakpreetsingh/nltk_data...\n",
      "[nltk_data]   Package punkt is already up-to-date!\n",
      "[nltk_data] Downloading package stopwords to\n",
      "[nltk_data]     /Users/mehakpreetsingh/nltk_data...\n",
      "[nltk_data]   Package stopwords is already up-to-date!\n",
      "[nltk_data] Downloading package averaged_perceptron_tagger to\n",
      "[nltk_data]     /Users/mehakpreetsingh/nltk_data...\n",
      "[nltk_data]   Package averaged_perceptron_tagger is already up-to-\n",
      "[nltk_data]       date!\n",
      "[nltk_data] Downloading package wordnet to\n",
      "[nltk_data]     /Users/mehakpreetsingh/nltk_data...\n",
      "[nltk_data]   Package wordnet is already up-to-date!\n"
     ]
    },
    {
     "data": {
      "text/plain": [
       "True"
      ]
     },
     "execution_count": 6,
     "metadata": {},
     "output_type": "execute_result"
    }
   ],
   "source": [
    "nltk.download('punkt')\n",
    "nltk.download('stopwords')\n",
    "nltk.download('averaged_perceptron_tagger')\n",
    "nltk.download('wordnet')"
   ]
  },
  {
   "cell_type": "code",
   "execution_count": 7,
   "metadata": {},
   "outputs": [],
   "source": [
    "import spacy as spacy\n",
    "nlp=spacy.load('en_core_web_sm')"
   ]
  },
  {
   "cell_type": "markdown",
   "metadata": {},
   "source": [
    "## NATURAL LANGUAGE PROCESSING MODEL (NLP)"
   ]
  },
  {
   "cell_type": "code",
   "execution_count": 8,
   "metadata": {},
   "outputs": [],
   "source": [
    "from nltk.tokenize import sent_tokenize\n",
    "from nltk.tokenize import word_tokenize\n",
    "from nltk.corpus import stopwords\n",
    "from nltk.stem import WordNetLemmatizer\n",
    "\n",
    "\n",
    "stop_words=set(stopwords.words('english'))\n",
    "LEM=WordNetLemmatizer()"
   ]
  },
  {
   "cell_type": "code",
   "execution_count": 9,
   "metadata": {},
   "outputs": [],
   "source": [
    "def NLP_PROCESSING(text):\n",
    "    \n",
    "    token_sent=sent_tokenize(text)\n",
    "    print(f'THE TOKEN OF SENTENCE WORD IS {token_sent}')\n",
    "    \n",
    "    token_word=word_tokenize(text)\n",
    "    print(f'THE TOKEN OF WORDS ARE {token_word}')\n",
    "    \n",
    "    token_stop_words =[i for i in token_word if i.lower() not in stop_words and i.isalpha()]\n",
    "    print(f'THE SENTENCE WITHOUT STOP WORDS ARE {token_stop_words}')\n",
    "    \n",
    "    LEM_WORDS=[LEM.lemmatize(word.lower()) for word in token_stop_words]\n",
    "    print(f'THE SENTENCE WITHOUT LEMMIZATION IS {LEM_WORDS}')\n",
    "    \n",
    "    POS_TAGS=nltk.pos_tag(token_word)\n",
    "    print(f'THE TAGS ARE {POS_TAGS}')\n",
    "    \n",
    "    DOC=nlp(text)\n",
    "    for j in DOC.ents:\n",
    "        print(j.text,\">>>>>\",j.label_)\n",
    "        \n",
    "    print('=-----------------------NEXT SENTENCE--------------------------------=')\n",
    "    \n",
    "        \n",
    "    return \" \".join(LEM_WORDS)"
   ]
  },
  {
   "cell_type": "code",
   "execution_count": null,
   "metadata": {},
   "outputs": [],
   "source": [
    "df_nlp['filter_data']=df_nlp['statement'].apply(NLP_PROCESSING)         "
   ]
  },
  {
   "cell_type": "code",
   "execution_count": 11,
   "metadata": {},
   "outputs": [],
   "source": [
    "#VECTORIZATION \n",
    "from sklearn.feature_extraction.text import TfidfVectorizer\n",
    "vec_data=TfidfVectorizer()\n",
    "x=vec_data.fit_transform(df_nlp['filter_data'])"
   ]
  },
  {
   "cell_type": "code",
   "execution_count": 12,
   "metadata": {},
   "outputs": [],
   "source": [
    "y=df_nlp['status'].astype(str)"
   ]
  },
  {
   "cell_type": "code",
   "execution_count": 13,
   "metadata": {},
   "outputs": [],
   "source": [
    "#SPLITING THE DATA\n",
    "\n",
    "def split(x,y):\n",
    "    from sklearn.model_selection import train_test_split\n",
    "    x_train,y_train,x_test,y_test=train_test_split(x,y,test_size=0.2,random_state=20)\n",
    "    \n",
    "    x_train,x_test,y_train,y_test= x_train,y_train,x_test,y_test\n",
    "    return x_train,y_train,x_test,y_test\n",
    "\n",
    "x_train,y_train,x_test,y_test =split(x,y)"
   ]
  },
  {
   "cell_type": "markdown",
   "metadata": {},
   "source": [
    "### NAIVE BAYES MODEL "
   ]
  },
  {
   "cell_type": "code",
   "execution_count": 14,
   "metadata": {},
   "outputs": [],
   "source": [
    "def model1(X_train,y_train):\n",
    "    from sklearn.naive_bayes import MultinomialNB\n",
    "    model_nb=MultinomialNB()\n",
    "    model_nb.fit(X_train,y_train)\n",
    "    return model_nb\n",
    "\n",
    "NB_model=model1(x_train,y_train)"
   ]
  },
  {
   "cell_type": "code",
   "execution_count": 15,
   "metadata": {},
   "outputs": [],
   "source": [
    "y_pred_nb=NB_model.predict(x_test)"
   ]
  },
  {
   "cell_type": "code",
   "execution_count": 16,
   "metadata": {},
   "outputs": [
    {
     "name": "stdout",
     "output_type": "stream",
     "text": [
      "==---------------NAIVE BAYES MODEL EVALUATION-------------------------==\n",
      "THE ACCURACY SCORE OF NAIVE BAYES IS 51.66240409207161%\n",
      "THE classification_report OF NAIVE BAYES IS                       precision    recall  f1-score   support\n",
      "\n",
      "             Anxiety       0.72      0.67      0.70        58\n",
      "             Bipolar       0.78      0.70      0.74        64\n",
      "          Depression       0.29      0.27      0.28        64\n",
      "              Normal       0.80      0.16      0.27        50\n",
      "Personality disorder       0.57      0.76      0.65        51\n",
      "              Stress       0.62      0.29      0.39        56\n",
      "            Suicidal       0.33      0.79      0.47        48\n",
      "\n",
      "            accuracy                           0.52       391\n",
      "           macro avg       0.59      0.52      0.50       391\n",
      "        weighted avg       0.59      0.52      0.50       391\n",
      "\n",
      "THE  CONFUSION MATRIX OF NAIVE_BAYES  IS [[39  5  4  0  5  2  3]\n",
      " [ 0 45  5  0  7  1  6]\n",
      " [ 1  3 17  1  3  2 37]\n",
      " [ 7  2  7  8  8  5 13]\n",
      " [ 0  0  7  0 39  0  5]\n",
      " [ 7  3 11  0  6 16 13]\n",
      " [ 0  0  8  1  1  0 38]]\n"
     ]
    }
   ],
   "source": [
    "def evaluation_metrics(Y1,Y2):\n",
    "    from sklearn.metrics import accuracy_score, classification_report, confusion_matrix\n",
    "    \n",
    "    print('==---------------NAIVE BAYES MODEL EVALUATION-------------------------==')\n",
    "    \n",
    "    ACCURACY_SCORE_NAIVE_BAYES=accuracy_score(Y1,Y2)\n",
    "    print(f'THE ACCURACY SCORE OF NAIVE BAYES IS {ACCURACY_SCORE_NAIVE_BAYES*100}%')\n",
    "    \n",
    "    classification_report_NAIVE_BAYES=classification_report(Y1,Y2)\n",
    "    print(f'THE classification_report OF NAIVE BAYES IS {classification_report_NAIVE_BAYES}')\n",
    "    \n",
    "    confusion_matrix_NAIVE_BAYES=confusion_matrix(Y1,Y2)\n",
    "    print(f'THE  CONFUSION MATRIX OF NAIVE_BAYES  IS {confusion_matrix_NAIVE_BAYES}')\n",
    "    \n",
    "    return ACCURACY_SCORE_NAIVE_BAYES,classification_report_NAIVE_BAYES,confusion_matrix_NAIVE_BAYES\n",
    "\n",
    "accu_scor_NB, CR_NB, CM_NB=evaluation_metrics(y_test,y_pred_nb)"
   ]
  },
  {
   "cell_type": "code",
   "execution_count": 17,
   "metadata": {},
   "outputs": [
    {
     "name": "stdout",
     "output_type": "stream",
     "text": [
      "THE CROSS VALIDATION OF NAIVE BAYES IS 54.32292435651361%\n"
     ]
    }
   ],
   "source": [
    "from sklearn.model_selection import cross_val_score\n",
    "cross_val_score_NB=cross_val_score(estimator=NB_model,X=x_train,y=y_train,cv=3)\n",
    "fin_cross=(cross_val_score_NB.mean()*100)\n",
    "print(f'THE CROSS VALIDATION OF NAIVE BAYES IS {fin_cross}%')"
   ]
  },
  {
   "cell_type": "code",
   "execution_count": 18,
   "metadata": {},
   "outputs": [
    {
     "data": {
      "image/png": "[encoded data removed]",
      "text/plain": [
       "<Figure size 640x480 with 2 Axes>"
      ]
     },
     "metadata": {},
     "output_type": "display_data"
    }
   ],
   "source": [
    "def plot(x):\n",
    "    from sklearn.metrics import ConfusionMatrixDisplay\n",
    "    diss=ConfusionMatrixDisplay(confusion_matrix=x)\n",
    "    diss.plot(cmap='cool')\n",
    "    \n",
    "    plt.show()\n",
    "    \n",
    "plot(CM_NB)"
   ]
  },
  {
   "cell_type": "markdown",
   "metadata": {},
   "source": [
    "### RANDOM FOREST MODEL USING GRID SEARCH CV "
   ]
  },
  {
   "cell_type": "code",
   "execution_count": 19,
   "metadata": {},
   "outputs": [],
   "source": [
    "from sklearn.preprocessing import LabelEncoder\n",
    "lb=LabelEncoder()\n",
    "y1=lb.fit_transform(df_nlp['status'])"
   ]
  },
  {
   "cell_type": "code",
   "execution_count": 20,
   "metadata": {},
   "outputs": [],
   "source": [
    "def split2(x,y):\n",
    "    from sklearn.model_selection import train_test_split\n",
    "    x_train,x_test,y1_train,y1_test=train_test_split(x,y,test_size=0.2,random_state=20)\n",
    "    \n",
    "   \n",
    "    return  x_train,x_test,y1_train,y1_test\n",
    "\n",
    "x_train,x_test,y1_train,y1_test =split2(x,y1)"
   ]
  },
  {
   "cell_type": "code",
   "execution_count": 21,
   "metadata": {},
   "outputs": [],
   "source": [
    "from sklearn.ensemble import RandomForestClassifier\n",
    "from sklearn.model_selection import GridSearchCV"
   ]
  },
  {
   "cell_type": "code",
   "execution_count": 22,
   "metadata": {},
   "outputs": [
    {
     "name": "stdout",
     "output_type": "stream",
     "text": [
      "Fitting 2 folds for each of 81 candidates, totalling 162 fits\n",
      "[CV] END max_depth=6, min_samples_leaf=9, min_samples_split=7, n_estimators=10; total time=   0.0s\n",
      "[CV] END max_depth=6, min_samples_leaf=9, min_samples_split=7, n_estimators=10; total time=   0.0s\n",
      "[CV] END max_depth=6, min_samples_leaf=9, min_samples_split=7, n_estimators=20; total time=   0.0s\n",
      "[CV] END max_depth=6, min_samples_leaf=9, min_samples_split=7, n_estimators=20; total time=   0.0s\n",
      "[CV] END max_depth=6, min_samples_leaf=9, min_samples_split=7, n_estimators=30; total time=   0.0s\n",
      "[CV] END max_depth=6, min_samples_leaf=9, min_samples_split=7, n_estimators=30; total time=   0.0s\n",
      "[CV] END max_depth=6, min_samples_leaf=9, min_samples_split=8, n_estimators=10; total time=   0.0s\n",
      "[CV] END max_depth=6, min_samples_leaf=9, min_samples_split=8, n_estimators=10; total time=   0.0s\n",
      "[CV] END max_depth=6, min_samples_leaf=9, min_samples_split=8, n_estimators=20; total time=   0.0s\n",
      "[CV] END max_depth=6, min_samples_leaf=9, min_samples_split=8, n_estimators=20; total time=   0.0s\n",
      "[CV] END max_depth=6, min_samples_leaf=9, min_samples_split=8, n_estimators=30; total time=   0.0s\n",
      "[CV] END max_depth=6, min_samples_leaf=9, min_samples_split=8, n_estimators=30; total time=   0.0s\n",
      "[CV] END max_depth=6, min_samples_leaf=9, min_samples_split=9, n_estimators=10; total time=   0.0s\n",
      "[CV] END max_depth=6, min_samples_leaf=9, min_samples_split=9, n_estimators=10; total time=   0.0s\n",
      "[CV] END max_depth=6, min_samples_leaf=9, min_samples_split=9, n_estimators=20; total time=   0.0s\n",
      "[CV] END max_depth=6, min_samples_leaf=9, min_samples_split=9, n_estimators=20; total time=   0.0s\n",
      "[CV] END max_depth=6, min_samples_leaf=9, min_samples_split=9, n_estimators=30; total time=   0.0s\n",
      "[CV] END max_depth=6, min_samples_leaf=9, min_samples_split=9, n_estimators=30; total time=   0.0s\n",
      "[CV] END max_depth=6, min_samples_leaf=10, min_samples_split=7, n_estimators=10; total time=   0.0s\n",
      "[CV] END max_depth=6, min_samples_leaf=10, min_samples_split=7, n_estimators=10; total time=   0.0s\n",
      "[CV] END max_depth=6, min_samples_leaf=10, min_samples_split=7, n_estimators=20; total time=   0.0s\n",
      "[CV] END max_depth=6, min_samples_leaf=10, min_samples_split=7, n_estimators=20; total time=   0.0s\n",
      "[CV] END max_depth=6, min_samples_leaf=10, min_samples_split=7, n_estimators=30; total time=   0.0s\n",
      "[CV] END max_depth=6, min_samples_leaf=10, min_samples_split=7, n_estimators=30; total time=   0.0s\n",
      "[CV] END max_depth=6, min_samples_leaf=10, min_samples_split=8, n_estimators=10; total time=   0.0s\n",
      "[CV] END max_depth=6, min_samples_leaf=10, min_samples_split=8, n_estimators=10; total time=   0.0s\n",
      "[CV] END max_depth=6, min_samples_leaf=10, min_samples_split=8, n_estimators=20; total time=   0.0s\n",
      "[CV] END max_depth=6, min_samples_leaf=10, min_samples_split=8, n_estimators=20; total time=   0.0s\n",
      "[CV] END max_depth=6, min_samples_leaf=10, min_samples_split=8, n_estimators=30; total time=   0.0s\n",
      "[CV] END max_depth=6, min_samples_leaf=10, min_samples_split=8, n_estimators=30; total time=   0.0s\n",
      "[CV] END max_depth=6, min_samples_leaf=10, min_samples_split=9, n_estimators=10; total time=   0.0s\n",
      "[CV] END max_depth=6, min_samples_leaf=10, min_samples_split=9, n_estimators=10; total time=   0.0s\n",
      "[CV] END max_depth=6, min_samples_leaf=10, min_samples_split=9, n_estimators=20; total time=   0.0s\n",
      "[CV] END max_depth=6, min_samples_leaf=10, min_samples_split=9, n_estimators=20; total time=   0.0s\n",
      "[CV] END max_depth=6, min_samples_leaf=10, min_samples_split=9, n_estimators=30; total time=   0.0s\n",
      "[CV] END max_depth=6, min_samples_leaf=10, min_samples_split=9, n_estimators=30; total time=   0.0s\n",
      "[CV] END max_depth=6, min_samples_leaf=8, min_samples_split=7, n_estimators=10; total time=   0.0s\n",
      "[CV] END max_depth=6, min_samples_leaf=8, min_samples_split=7, n_estimators=10; total time=   0.0s\n",
      "[CV] END max_depth=6, min_samples_leaf=8, min_samples_split=7, n_estimators=20; total time=   0.0s\n",
      "[CV] END max_depth=6, min_samples_leaf=8, min_samples_split=7, n_estimators=20; total time=   0.0s\n",
      "[CV] END max_depth=6, min_samples_leaf=8, min_samples_split=7, n_estimators=30; total time=   0.0s\n",
      "[CV] END max_depth=6, min_samples_leaf=8, min_samples_split=7, n_estimators=30; total time=   0.0s\n",
      "[CV] END max_depth=6, min_samples_leaf=8, min_samples_split=8, n_estimators=10; total time=   0.0s\n",
      "[CV] END max_depth=6, min_samples_leaf=8, min_samples_split=8, n_estimators=10; total time=   0.0s\n",
      "[CV] END max_depth=6, min_samples_leaf=8, min_samples_split=8, n_estimators=20; total time=   0.0s\n",
      "[CV] END max_depth=6, min_samples_leaf=8, min_samples_split=8, n_estimators=20; total time=   0.0s\n",
      "[CV] END max_depth=6, min_samples_leaf=8, min_samples_split=8, n_estimators=30; total time=   0.0s\n",
      "[CV] END max_depth=6, min_samples_leaf=8, min_samples_split=8, n_estimators=30; total time=   0.0s\n",
      "[CV] END max_depth=6, min_samples_leaf=8, min_samples_split=9, n_estimators=10; total time=   0.0s\n",
      "[CV] END max_depth=6, min_samples_leaf=8, min_samples_split=9, n_estimators=10; total time=   0.0s\n",
      "[CV] END max_depth=6, min_samples_leaf=8, min_samples_split=9, n_estimators=20; total time=   0.0s\n",
      "[CV] END max_depth=6, min_samples_leaf=8, min_samples_split=9, n_estimators=20; total time=   0.0s\n",
      "[CV] END max_depth=6, min_samples_leaf=8, min_samples_split=9, n_estimators=30; total time=   0.0s\n",
      "[CV] END max_depth=6, min_samples_leaf=8, min_samples_split=9, n_estimators=30; total time=   0.0s\n",
      "[CV] END max_depth=9, min_samples_leaf=9, min_samples_split=7, n_estimators=10; total time=   0.0s\n",
      "[CV] END max_depth=9, min_samples_leaf=9, min_samples_split=7, n_estimators=10; total time=   0.0s\n",
      "[CV] END max_depth=9, min_samples_leaf=9, min_samples_split=7, n_estimators=20; total time=   0.0s\n",
      "[CV] END max_depth=9, min_samples_leaf=9, min_samples_split=7, n_estimators=20; total time=   0.0s\n",
      "[CV] END max_depth=9, min_samples_leaf=9, min_samples_split=7, n_estimators=30; total time=   0.0s\n",
      "[CV] END max_depth=9, min_samples_leaf=9, min_samples_split=7, n_estimators=30; total time=   0.0s\n",
      "[CV] END max_depth=9, min_samples_leaf=9, min_samples_split=8, n_estimators=10; total time=   0.0s\n",
      "[CV] END max_depth=9, min_samples_leaf=9, min_samples_split=8, n_estimators=10; total time=   0.0s\n",
      "[CV] END max_depth=9, min_samples_leaf=9, min_samples_split=8, n_estimators=20; total time=   0.0s\n",
      "[CV] END max_depth=9, min_samples_leaf=9, min_samples_split=8, n_estimators=20; total time=   0.0s\n",
      "[CV] END max_depth=9, min_samples_leaf=9, min_samples_split=8, n_estimators=30; total time=   0.0s\n",
      "[CV] END max_depth=9, min_samples_leaf=9, min_samples_split=8, n_estimators=30; total time=   0.0s\n",
      "[CV] END max_depth=9, min_samples_leaf=9, min_samples_split=9, n_estimators=10; total time=   0.0s\n",
      "[CV] END max_depth=9, min_samples_leaf=9, min_samples_split=9, n_estimators=10; total time=   0.0s\n",
      "[CV] END max_depth=9, min_samples_leaf=9, min_samples_split=9, n_estimators=20; total time=   0.0s\n",
      "[CV] END max_depth=9, min_samples_leaf=9, min_samples_split=9, n_estimators=20; total time=   0.0s\n",
      "[CV] END max_depth=9, min_samples_leaf=9, min_samples_split=9, n_estimators=30; total time=   0.0s\n",
      "[CV] END max_depth=9, min_samples_leaf=9, min_samples_split=9, n_estimators=30; total time=   0.0s\n",
      "[CV] END max_depth=9, min_samples_leaf=10, min_samples_split=7, n_estimators=10; total time=   0.0s\n",
      "[CV] END max_depth=9, min_samples_leaf=10, min_samples_split=7, n_estimators=10; total time=   0.0s\n",
      "[CV] END max_depth=9, min_samples_leaf=10, min_samples_split=7, n_estimators=20; total time=   0.0s\n",
      "[CV] END max_depth=9, min_samples_leaf=10, min_samples_split=7, n_estimators=20; total time=   0.0s\n",
      "[CV] END max_depth=9, min_samples_leaf=10, min_samples_split=7, n_estimators=30; total time=   0.1s\n",
      "[CV] END max_depth=9, min_samples_leaf=10, min_samples_split=7, n_estimators=30; total time=   0.0s\n",
      "[CV] END max_depth=9, min_samples_leaf=10, min_samples_split=8, n_estimators=10; total time=   0.0s\n",
      "[CV] END max_depth=9, min_samples_leaf=10, min_samples_split=8, n_estimators=10; total time=   0.0s\n",
      "[CV] END max_depth=9, min_samples_leaf=10, min_samples_split=8, n_estimators=20; total time=   0.0s\n",
      "[CV] END max_depth=9, min_samples_leaf=10, min_samples_split=8, n_estimators=20; total time=   0.0s\n",
      "[CV] END max_depth=9, min_samples_leaf=10, min_samples_split=8, n_estimators=30; total time=   0.0s\n",
      "[CV] END max_depth=9, min_samples_leaf=10, min_samples_split=8, n_estimators=30; total time=   0.0s\n",
      "[CV] END max_depth=9, min_samples_leaf=10, min_samples_split=9, n_estimators=10; total time=   0.0s\n",
      "[CV] END max_depth=9, min_samples_leaf=10, min_samples_split=9, n_estimators=10; total time=   0.0s\n",
      "[CV] END max_depth=9, min_samples_leaf=10, min_samples_split=9, n_estimators=20; total time=   0.0s\n",
      "[CV] END max_depth=9, min_samples_leaf=10, min_samples_split=9, n_estimators=20; total time=   0.0s\n",
      "[CV] END max_depth=9, min_samples_leaf=10, min_samples_split=9, n_estimators=30; total time=   0.0s\n",
      "[CV] END max_depth=9, min_samples_leaf=10, min_samples_split=9, n_estimators=30; total time=   0.0s\n",
      "[CV] END max_depth=9, min_samples_leaf=8, min_samples_split=7, n_estimators=10; total time=   0.0s\n",
      "[CV] END max_depth=9, min_samples_leaf=8, min_samples_split=7, n_estimators=10; total time=   0.0s\n",
      "[CV] END max_depth=9, min_samples_leaf=8, min_samples_split=7, n_estimators=20; total time=   0.0s\n",
      "[CV] END max_depth=9, min_samples_leaf=8, min_samples_split=7, n_estimators=20; total time=   0.0s\n",
      "[CV] END max_depth=9, min_samples_leaf=8, min_samples_split=7, n_estimators=30; total time=   0.0s\n",
      "[CV] END max_depth=9, min_samples_leaf=8, min_samples_split=7, n_estimators=30; total time=   0.0s\n",
      "[CV] END max_depth=9, min_samples_leaf=8, min_samples_split=8, n_estimators=10; total time=   0.0s\n",
      "[CV] END max_depth=9, min_samples_leaf=8, min_samples_split=8, n_estimators=10; total time=   0.0s\n",
      "[CV] END max_depth=9, min_samples_leaf=8, min_samples_split=8, n_estimators=20; total time=   0.0s\n",
      "[CV] END max_depth=9, min_samples_leaf=8, min_samples_split=8, n_estimators=20; total time=   0.0s\n",
      "[CV] END max_depth=9, min_samples_leaf=8, min_samples_split=8, n_estimators=30; total time=   0.0s\n",
      "[CV] END max_depth=9, min_samples_leaf=8, min_samples_split=8, n_estimators=30; total time=   0.0s\n",
      "[CV] END max_depth=9, min_samples_leaf=8, min_samples_split=9, n_estimators=10; total time=   0.0s\n",
      "[CV] END max_depth=9, min_samples_leaf=8, min_samples_split=9, n_estimators=10; total time=   0.0s\n",
      "[CV] END max_depth=9, min_samples_leaf=8, min_samples_split=9, n_estimators=20; total time=   0.0s\n",
      "[CV] END max_depth=9, min_samples_leaf=8, min_samples_split=9, n_estimators=20; total time=   0.0s\n",
      "[CV] END max_depth=9, min_samples_leaf=8, min_samples_split=9, n_estimators=30; total time=   0.0s\n",
      "[CV] END max_depth=9, min_samples_leaf=8, min_samples_split=9, n_estimators=30; total time=   0.0s\n",
      "[CV] END max_depth=6, min_samples_leaf=9, min_samples_split=7, n_estimators=10; total time=   0.0s\n",
      "[CV] END max_depth=6, min_samples_leaf=9, min_samples_split=7, n_estimators=10; total time=   0.0s\n",
      "[CV] END max_depth=6, min_samples_leaf=9, min_samples_split=7, n_estimators=20; total time=   0.0s\n",
      "[CV] END max_depth=6, min_samples_leaf=9, min_samples_split=7, n_estimators=20; total time=   0.0s\n",
      "[CV] END max_depth=6, min_samples_leaf=9, min_samples_split=7, n_estimators=30; total time=   0.0s\n",
      "[CV] END max_depth=6, min_samples_leaf=9, min_samples_split=7, n_estimators=30; total time=   0.0s\n",
      "[CV] END max_depth=6, min_samples_leaf=9, min_samples_split=8, n_estimators=10; total time=   0.0s\n",
      "[CV] END max_depth=6, min_samples_leaf=9, min_samples_split=8, n_estimators=10; total time=   0.0s\n",
      "[CV] END max_depth=6, min_samples_leaf=9, min_samples_split=8, n_estimators=20; total time=   0.0s\n",
      "[CV] END max_depth=6, min_samples_leaf=9, min_samples_split=8, n_estimators=20; total time=   0.0s\n",
      "[CV] END max_depth=6, min_samples_leaf=9, min_samples_split=8, n_estimators=30; total time=   0.0s\n",
      "[CV] END max_depth=6, min_samples_leaf=9, min_samples_split=8, n_estimators=30; total time=   0.0s\n",
      "[CV] END max_depth=6, min_samples_leaf=9, min_samples_split=9, n_estimators=10; total time=   0.0s\n",
      "[CV] END max_depth=6, min_samples_leaf=9, min_samples_split=9, n_estimators=10; total time=   0.0s\n",
      "[CV] END max_depth=6, min_samples_leaf=9, min_samples_split=9, n_estimators=20; total time=   0.0s\n",
      "[CV] END max_depth=6, min_samples_leaf=9, min_samples_split=9, n_estimators=20; total time=   0.0s\n",
      "[CV] END max_depth=6, min_samples_leaf=9, min_samples_split=9, n_estimators=30; total time=   0.0s\n",
      "[CV] END max_depth=6, min_samples_leaf=9, min_samples_split=9, n_estimators=30; total time=   0.0s\n",
      "[CV] END max_depth=6, min_samples_leaf=10, min_samples_split=7, n_estimators=10; total time=   0.0s\n",
      "[CV] END max_depth=6, min_samples_leaf=10, min_samples_split=7, n_estimators=10; total time=   0.0s\n",
      "[CV] END max_depth=6, min_samples_leaf=10, min_samples_split=7, n_estimators=20; total time=   0.0s\n",
      "[CV] END max_depth=6, min_samples_leaf=10, min_samples_split=7, n_estimators=20; total time=   0.0s\n",
      "[CV] END max_depth=6, min_samples_leaf=10, min_samples_split=7, n_estimators=30; total time=   0.0s\n",
      "[CV] END max_depth=6, min_samples_leaf=10, min_samples_split=7, n_estimators=30; total time=   0.0s\n",
      "[CV] END max_depth=6, min_samples_leaf=10, min_samples_split=8, n_estimators=10; total time=   0.0s\n",
      "[CV] END max_depth=6, min_samples_leaf=10, min_samples_split=8, n_estimators=10; total time=   0.0s\n",
      "[CV] END max_depth=6, min_samples_leaf=10, min_samples_split=8, n_estimators=20; total time=   0.0s\n",
      "[CV] END max_depth=6, min_samples_leaf=10, min_samples_split=8, n_estimators=20; total time=   0.0s\n",
      "[CV] END max_depth=6, min_samples_leaf=10, min_samples_split=8, n_estimators=30; total time=   0.0s\n",
      "[CV] END max_depth=6, min_samples_leaf=10, min_samples_split=8, n_estimators=30; total time=   0.0s\n",
      "[CV] END max_depth=6, min_samples_leaf=10, min_samples_split=9, n_estimators=10; total time=   0.0s\n",
      "[CV] END max_depth=6, min_samples_leaf=10, min_samples_split=9, n_estimators=10; total time=   0.0s\n",
      "[CV] END max_depth=6, min_samples_leaf=10, min_samples_split=9, n_estimators=20; total time=   0.0s\n",
      "[CV] END max_depth=6, min_samples_leaf=10, min_samples_split=9, n_estimators=20; total time=   0.0s\n",
      "[CV] END max_depth=6, min_samples_leaf=10, min_samples_split=9, n_estimators=30; total time=   0.0s\n",
      "[CV] END max_depth=6, min_samples_leaf=10, min_samples_split=9, n_estimators=30; total time=   0.0s\n",
      "[CV] END max_depth=6, min_samples_leaf=8, min_samples_split=7, n_estimators=10; total time=   0.0s\n",
      "[CV] END max_depth=6, min_samples_leaf=8, min_samples_split=7, n_estimators=10; total time=   0.0s\n",
      "[CV] END max_depth=6, min_samples_leaf=8, min_samples_split=7, n_estimators=20; total time=   0.0s\n",
      "[CV] END max_depth=6, min_samples_leaf=8, min_samples_split=7, n_estimators=20; total time=   0.0s\n",
      "[CV] END max_depth=6, min_samples_leaf=8, min_samples_split=7, n_estimators=30; total time=   0.0s\n",
      "[CV] END max_depth=6, min_samples_leaf=8, min_samples_split=7, n_estimators=30; total time=   0.0s\n",
      "[CV] END max_depth=6, min_samples_leaf=8, min_samples_split=8, n_estimators=10; total time=   0.0s\n",
      "[CV] END max_depth=6, min_samples_leaf=8, min_samples_split=8, n_estimators=10; total time=   0.0s\n",
      "[CV] END max_depth=6, min_samples_leaf=8, min_samples_split=8, n_estimators=20; total time=   0.0s\n",
      "[CV] END max_depth=6, min_samples_leaf=8, min_samples_split=8, n_estimators=20; total time=   0.0s\n",
      "[CV] END max_depth=6, min_samples_leaf=8, min_samples_split=8, n_estimators=30; total time=   0.0s\n",
      "[CV] END max_depth=6, min_samples_leaf=8, min_samples_split=8, n_estimators=30; total time=   0.0s\n",
      "[CV] END max_depth=6, min_samples_leaf=8, min_samples_split=9, n_estimators=10; total time=   0.0s\n",
      "[CV] END max_depth=6, min_samples_leaf=8, min_samples_split=9, n_estimators=10; total time=   0.0s\n",
      "[CV] END max_depth=6, min_samples_leaf=8, min_samples_split=9, n_estimators=20; total time=   0.0s\n",
      "[CV] END max_depth=6, min_samples_leaf=8, min_samples_split=9, n_estimators=20; total time=   0.0s\n",
      "[CV] END max_depth=6, min_samples_leaf=8, min_samples_split=9, n_estimators=30; total time=   0.0s\n",
      "[CV] END max_depth=6, min_samples_leaf=8, min_samples_split=9, n_estimators=30; total time=   0.0s\n"
     ]
    }
   ],
   "source": [
    "def model_rf(x,y):\n",
    "    \n",
    "    model_2=RandomForestClassifier(random_state=20)\n",
    "\n",
    "    grid_RF={'n_estimators':[10,20,30],\n",
    "         'max_depth':[6,9,6],\n",
    "         'min_samples_split':[7,8,9],\n",
    "         'min_samples_leaf':[9,10,8]}\n",
    "\n",
    "\n",
    "    grid_model=GridSearchCV(estimator=model_2,param_grid=grid_RF,cv=2, verbose=2)\n",
    "    grid_model.fit(x,y)\n",
    "    return grid_model\n",
    "\n",
    "grid_model_RF=model_rf(x_train,y1_train)"
   ]
  },
  {
   "cell_type": "code",
   "execution_count": 23,
   "metadata": {},
   "outputs": [
    {
     "name": "stdout",
     "output_type": "stream",
     "text": [
      "RandomForestClassifier(max_depth=9, min_samples_leaf=8, min_samples_split=7,\n",
      "                       n_estimators=30, random_state=20)\n"
     ]
    }
   ],
   "source": [
    "print(grid_model_RF.best_estimator_)"
   ]
  },
  {
   "cell_type": "code",
   "execution_count": 24,
   "metadata": {},
   "outputs": [],
   "source": [
    "y2_pred_rf=grid_model_RF.predict(x_test)"
   ]
  },
  {
   "cell_type": "code",
   "execution_count": 25,
   "metadata": {},
   "outputs": [
    {
     "name": "stdout",
     "output_type": "stream",
     "text": [
      "==---------------RANDOM FOREST  MODEL EVALUATION-------------------------==\n",
      "THE ACCURACY SCORE RANDOM FOREST  MODEL  OF IS 50.127877237851656%\n",
      "THE classification_report OF  RANDOM FOREST  MODEL  IS               precision    recall  f1-score   support\n",
      "\n",
      "           0       0.57      0.55      0.56        58\n",
      "           1       0.80      0.56      0.66        64\n",
      "           2       0.52      0.22      0.31        64\n",
      "           3       0.33      1.00      0.50        50\n",
      "           4       0.67      0.65      0.66        51\n",
      "           5       0.78      0.12      0.22        56\n",
      "           6       0.44      0.50      0.47        48\n",
      "\n",
      "    accuracy                           0.50       391\n",
      "   macro avg       0.59      0.52      0.48       391\n",
      "weighted avg       0.60      0.50      0.48       391\n",
      "\n",
      "THE  CONFUSION MATRIX OF RANDOM FOREST  MODEL   IS [[32  2  0 14  3  2  5]\n",
      " [ 4 36  4 15  4  0  1]\n",
      " [ 5  4 14 17  5  0 19]\n",
      " [ 0  0  0 50  0  0  0]\n",
      " [ 4  0  2 10 33  0  2]\n",
      " [10  2  4 27  2  7  4]\n",
      " [ 1  1  3 17  2  0 24]]\n"
     ]
    }
   ],
   "source": [
    "def RF_EVA(y_predtion ,y_2):\n",
    "\n",
    "    from sklearn.metrics import accuracy_score, classification_report, confusion_matrix,ConfusionMatrixDisplay\n",
    "    \n",
    "    print('==---------------RANDOM FOREST  MODEL EVALUATION-------------------------==')\n",
    "    \n",
    "    ACCURACY_SCORE_NAIVE_BAYES=accuracy_score(y_predtion,y_2)\n",
    "    print(f'THE ACCURACY SCORE RANDOM FOREST  MODEL  OF IS {ACCURACY_SCORE_NAIVE_BAYES*100}%')\n",
    "    \n",
    "    classification_report_NAIVE_BAYES=classification_report(y_predtion,y_2)\n",
    "    print(f'THE classification_report OF  RANDOM FOREST  MODEL  IS {classification_report_NAIVE_BAYES}')\n",
    "    \n",
    "    confusion_matrix_NAIVE_BAYES=confusion_matrix(y_predtion,y_2)\n",
    "    print(f'THE  CONFUSION MATRIX OF RANDOM FOREST  MODEL   IS {confusion_matrix_NAIVE_BAYES}')\n",
    "    \n",
    "    return ACCURACY_SCORE_NAIVE_BAYES,classification_report_NAIVE_BAYES,confusion_matrix_NAIVE_BAYES\n",
    "\n",
    "accu_scor_RF, CR_RF, CM_RF=RF_EVA(y1_test,y2_pred_rf)"
   ]
  },
  {
   "cell_type": "code",
   "execution_count": 26,
   "metadata": {},
   "outputs": [
    {
     "name": "stdout",
     "output_type": "stream",
     "text": [
      "Fitting 2 folds for each of 81 candidates, totalling 162 fits\n",
      "[CV] END max_depth=6, min_samples_leaf=9, min_samples_split=7, n_estimators=10; total time=   0.0s\n",
      "[CV] END max_depth=6, min_samples_leaf=9, min_samples_split=7, n_estimators=10; total time=   0.0s\n",
      "[CV] END max_depth=6, min_samples_leaf=9, min_samples_split=7, n_estimators=20; total time=   0.0s\n",
      "[CV] END max_depth=6, min_samples_leaf=9, min_samples_split=7, n_estimators=20; total time=   0.0s\n",
      "[CV] END max_depth=6, min_samples_leaf=9, min_samples_split=7, n_estimators=30; total time=   0.0s\n",
      "[CV] END max_depth=6, min_samples_leaf=9, min_samples_split=7, n_estimators=30; total time=   0.0s\n",
      "[CV] END max_depth=6, min_samples_leaf=9, min_samples_split=8, n_estimators=10; total time=   0.0s\n",
      "[CV] END max_depth=6, min_samples_leaf=9, min_samples_split=8, n_estimators=10; total time=   0.0s\n",
      "[CV] END max_depth=6, min_samples_leaf=9, min_samples_split=8, n_estimators=20; total time=   0.0s\n",
      "[CV] END max_depth=6, min_samples_leaf=9, min_samples_split=8, n_estimators=20; total time=   0.0s\n",
      "[CV] END max_depth=6, min_samples_leaf=9, min_samples_split=8, n_estimators=30; total time=   0.0s\n",
      "[CV] END max_depth=6, min_samples_leaf=9, min_samples_split=8, n_estimators=30; total time=   0.0s\n",
      "[CV] END max_depth=6, min_samples_leaf=9, min_samples_split=9, n_estimators=10; total time=   0.0s\n",
      "[CV] END max_depth=6, min_samples_leaf=9, min_samples_split=9, n_estimators=10; total time=   0.0s\n",
      "[CV] END max_depth=6, min_samples_leaf=9, min_samples_split=9, n_estimators=20; total time=   0.0s\n",
      "[CV] END max_depth=6, min_samples_leaf=9, min_samples_split=9, n_estimators=20; total time=   0.0s\n",
      "[CV] END max_depth=6, min_samples_leaf=9, min_samples_split=9, n_estimators=30; total time=   0.0s\n",
      "[CV] END max_depth=6, min_samples_leaf=9, min_samples_split=9, n_estimators=30; total time=   0.0s\n",
      "[CV] END max_depth=6, min_samples_leaf=10, min_samples_split=7, n_estimators=10; total time=   0.0s\n",
      "[CV] END max_depth=6, min_samples_leaf=10, min_samples_split=7, n_estimators=10; total time=   0.0s\n",
      "[CV] END max_depth=6, min_samples_leaf=10, min_samples_split=7, n_estimators=20; total time=   0.0s\n",
      "[CV] END max_depth=6, min_samples_leaf=10, min_samples_split=7, n_estimators=20; total time=   0.0s\n",
      "[CV] END max_depth=6, min_samples_leaf=10, min_samples_split=7, n_estimators=30; total time=   0.0s\n",
      "[CV] END max_depth=6, min_samples_leaf=10, min_samples_split=7, n_estimators=30; total time=   0.0s\n",
      "[CV] END max_depth=6, min_samples_leaf=10, min_samples_split=8, n_estimators=10; total time=   0.0s\n",
      "[CV] END max_depth=6, min_samples_leaf=10, min_samples_split=8, n_estimators=10; total time=   0.0s\n",
      "[CV] END max_depth=6, min_samples_leaf=10, min_samples_split=8, n_estimators=20; total time=   0.0s\n",
      "[CV] END max_depth=6, min_samples_leaf=10, min_samples_split=8, n_estimators=20; total time=   0.0s\n",
      "[CV] END max_depth=6, min_samples_leaf=10, min_samples_split=8, n_estimators=30; total time=   0.0s\n",
      "[CV] END max_depth=6, min_samples_leaf=10, min_samples_split=8, n_estimators=30; total time=   0.0s\n",
      "[CV] END max_depth=6, min_samples_leaf=10, min_samples_split=9, n_estimators=10; total time=   0.0s\n",
      "[CV] END max_depth=6, min_samples_leaf=10, min_samples_split=9, n_estimators=10; total time=   0.0s\n",
      "[CV] END max_depth=6, min_samples_leaf=10, min_samples_split=9, n_estimators=20; total time=   0.0s\n",
      "[CV] END max_depth=6, min_samples_leaf=10, min_samples_split=9, n_estimators=20; total time=   0.0s\n",
      "[CV] END max_depth=6, min_samples_leaf=10, min_samples_split=9, n_estimators=30; total time=   0.0s\n",
      "[CV] END max_depth=6, min_samples_leaf=10, min_samples_split=9, n_estimators=30; total time=   0.0s\n",
      "[CV] END max_depth=6, min_samples_leaf=8, min_samples_split=7, n_estimators=10; total time=   0.0s\n",
      "[CV] END max_depth=6, min_samples_leaf=8, min_samples_split=7, n_estimators=10; total time=   0.0s\n",
      "[CV] END max_depth=6, min_samples_leaf=8, min_samples_split=7, n_estimators=20; total time=   0.0s\n",
      "[CV] END max_depth=6, min_samples_leaf=8, min_samples_split=7, n_estimators=20; total time=   0.0s\n",
      "[CV] END max_depth=6, min_samples_leaf=8, min_samples_split=7, n_estimators=30; total time=   0.0s\n",
      "[CV] END max_depth=6, min_samples_leaf=8, min_samples_split=7, n_estimators=30; total time=   0.0s\n",
      "[CV] END max_depth=6, min_samples_leaf=8, min_samples_split=8, n_estimators=10; total time=   0.0s\n",
      "[CV] END max_depth=6, min_samples_leaf=8, min_samples_split=8, n_estimators=10; total time=   0.0s\n",
      "[CV] END max_depth=6, min_samples_leaf=8, min_samples_split=8, n_estimators=20; total time=   0.0s\n",
      "[CV] END max_depth=6, min_samples_leaf=8, min_samples_split=8, n_estimators=20; total time=   0.0s\n",
      "[CV] END max_depth=6, min_samples_leaf=8, min_samples_split=8, n_estimators=30; total time=   0.0s\n",
      "[CV] END max_depth=6, min_samples_leaf=8, min_samples_split=8, n_estimators=30; total time=   0.0s\n",
      "[CV] END max_depth=6, min_samples_leaf=8, min_samples_split=9, n_estimators=10; total time=   0.0s\n",
      "[CV] END max_depth=6, min_samples_leaf=8, min_samples_split=9, n_estimators=10; total time=   0.0s\n",
      "[CV] END max_depth=6, min_samples_leaf=8, min_samples_split=9, n_estimators=20; total time=   0.0s\n",
      "[CV] END max_depth=6, min_samples_leaf=8, min_samples_split=9, n_estimators=20; total time=   0.0s\n",
      "[CV] END max_depth=6, min_samples_leaf=8, min_samples_split=9, n_estimators=30; total time=   0.0s\n",
      "[CV] END max_depth=6, min_samples_leaf=8, min_samples_split=9, n_estimators=30; total time=   0.0s\n",
      "[CV] END max_depth=9, min_samples_leaf=9, min_samples_split=7, n_estimators=10; total time=   0.0s\n",
      "[CV] END max_depth=9, min_samples_leaf=9, min_samples_split=7, n_estimators=10; total time=   0.0s\n",
      "[CV] END max_depth=9, min_samples_leaf=9, min_samples_split=7, n_estimators=20; total time=   0.0s\n",
      "[CV] END max_depth=9, min_samples_leaf=9, min_samples_split=7, n_estimators=20; total time=   0.0s\n",
      "[CV] END max_depth=9, min_samples_leaf=9, min_samples_split=7, n_estimators=30; total time=   0.0s\n",
      "[CV] END max_depth=9, min_samples_leaf=9, min_samples_split=7, n_estimators=30; total time=   0.0s\n",
      "[CV] END max_depth=9, min_samples_leaf=9, min_samples_split=8, n_estimators=10; total time=   0.0s\n",
      "[CV] END max_depth=9, min_samples_leaf=9, min_samples_split=8, n_estimators=10; total time=   0.0s\n",
      "[CV] END max_depth=9, min_samples_leaf=9, min_samples_split=8, n_estimators=20; total time=   0.0s\n",
      "[CV] END max_depth=9, min_samples_leaf=9, min_samples_split=8, n_estimators=20; total time=   0.0s\n",
      "[CV] END max_depth=9, min_samples_leaf=9, min_samples_split=8, n_estimators=30; total time=   0.0s\n",
      "[CV] END max_depth=9, min_samples_leaf=9, min_samples_split=8, n_estimators=30; total time=   0.0s\n",
      "[CV] END max_depth=9, min_samples_leaf=9, min_samples_split=9, n_estimators=10; total time=   0.0s\n",
      "[CV] END max_depth=9, min_samples_leaf=9, min_samples_split=9, n_estimators=10; total time=   0.0s\n",
      "[CV] END max_depth=9, min_samples_leaf=9, min_samples_split=9, n_estimators=20; total time=   0.0s\n",
      "[CV] END max_depth=9, min_samples_leaf=9, min_samples_split=9, n_estimators=20; total time=   0.0s\n",
      "[CV] END max_depth=9, min_samples_leaf=9, min_samples_split=9, n_estimators=30; total time=   0.0s\n",
      "[CV] END max_depth=9, min_samples_leaf=9, min_samples_split=9, n_estimators=30; total time=   0.0s\n",
      "[CV] END max_depth=9, min_samples_leaf=10, min_samples_split=7, n_estimators=10; total time=   0.0s\n",
      "[CV] END max_depth=9, min_samples_leaf=10, min_samples_split=7, n_estimators=10; total time=   0.0s\n",
      "[CV] END max_depth=9, min_samples_leaf=10, min_samples_split=7, n_estimators=20; total time=   0.0s\n",
      "[CV] END max_depth=9, min_samples_leaf=10, min_samples_split=7, n_estimators=20; total time=   0.0s\n",
      "[CV] END max_depth=9, min_samples_leaf=10, min_samples_split=7, n_estimators=30; total time=   0.0s\n",
      "[CV] END max_depth=9, min_samples_leaf=10, min_samples_split=7, n_estimators=30; total time=   0.0s\n",
      "[CV] END max_depth=9, min_samples_leaf=10, min_samples_split=8, n_estimators=10; total time=   0.0s\n",
      "[CV] END max_depth=9, min_samples_leaf=10, min_samples_split=8, n_estimators=10; total time=   0.0s\n",
      "[CV] END max_depth=9, min_samples_leaf=10, min_samples_split=8, n_estimators=20; total time=   0.0s\n",
      "[CV] END max_depth=9, min_samples_leaf=10, min_samples_split=8, n_estimators=20; total time=   0.0s\n",
      "[CV] END max_depth=9, min_samples_leaf=10, min_samples_split=8, n_estimators=30; total time=   0.0s\n",
      "[CV] END max_depth=9, min_samples_leaf=10, min_samples_split=8, n_estimators=30; total time=   0.0s\n",
      "[CV] END max_depth=9, min_samples_leaf=10, min_samples_split=9, n_estimators=10; total time=   0.0s\n",
      "[CV] END max_depth=9, min_samples_leaf=10, min_samples_split=9, n_estimators=10; total time=   0.0s\n",
      "[CV] END max_depth=9, min_samples_leaf=10, min_samples_split=9, n_estimators=20; total time=   0.0s\n",
      "[CV] END max_depth=9, min_samples_leaf=10, min_samples_split=9, n_estimators=20; total time=   0.0s\n",
      "[CV] END max_depth=9, min_samples_leaf=10, min_samples_split=9, n_estimators=30; total time=   0.0s\n",
      "[CV] END max_depth=9, min_samples_leaf=10, min_samples_split=9, n_estimators=30; total time=   0.0s\n",
      "[CV] END max_depth=9, min_samples_leaf=8, min_samples_split=7, n_estimators=10; total time=   0.0s\n",
      "[CV] END max_depth=9, min_samples_leaf=8, min_samples_split=7, n_estimators=10; total time=   0.0s\n",
      "[CV] END max_depth=9, min_samples_leaf=8, min_samples_split=7, n_estimators=20; total time=   0.0s\n",
      "[CV] END max_depth=9, min_samples_leaf=8, min_samples_split=7, n_estimators=20; total time=   0.0s\n",
      "[CV] END max_depth=9, min_samples_leaf=8, min_samples_split=7, n_estimators=30; total time=   0.0s\n",
      "[CV] END max_depth=9, min_samples_leaf=8, min_samples_split=7, n_estimators=30; total time=   0.0s\n",
      "[CV] END max_depth=9, min_samples_leaf=8, min_samples_split=8, n_estimators=10; total time=   0.0s\n",
      "[CV] END max_depth=9, min_samples_leaf=8, min_samples_split=8, n_estimators=10; total time=   0.0s\n",
      "[CV] END max_depth=9, min_samples_leaf=8, min_samples_split=8, n_estimators=20; total time=   0.0s\n",
      "[CV] END max_depth=9, min_samples_leaf=8, min_samples_split=8, n_estimators=20; total time=   0.0s\n",
      "[CV] END max_depth=9, min_samples_leaf=8, min_samples_split=8, n_estimators=30; total time=   0.0s\n",
      "[CV] END max_depth=9, min_samples_leaf=8, min_samples_split=8, n_estimators=30; total time=   0.0s\n",
      "[CV] END max_depth=9, min_samples_leaf=8, min_samples_split=9, n_estimators=10; total time=   0.0s\n",
      "[CV] END max_depth=9, min_samples_leaf=8, min_samples_split=9, n_estimators=10; total time=   0.0s\n",
      "[CV] END max_depth=9, min_samples_leaf=8, min_samples_split=9, n_estimators=20; total time=   0.0s\n",
      "[CV] END max_depth=9, min_samples_leaf=8, min_samples_split=9, n_estimators=20; total time=   0.0s\n",
      "[CV] END max_depth=9, min_samples_leaf=8, min_samples_split=9, n_estimators=30; total time=   0.0s\n",
      "[CV] END max_depth=9, min_samples_leaf=8, min_samples_split=9, n_estimators=30; total time=   0.0s\n",
      "[CV] END max_depth=6, min_samples_leaf=9, min_samples_split=7, n_estimators=10; total time=   0.0s\n",
      "[CV] END max_depth=6, min_samples_leaf=9, min_samples_split=7, n_estimators=10; total time=   0.0s\n",
      "[CV] END max_depth=6, min_samples_leaf=9, min_samples_split=7, n_estimators=20; total time=   0.0s\n",
      "[CV] END max_depth=6, min_samples_leaf=9, min_samples_split=7, n_estimators=20; total time=   0.0s\n",
      "[CV] END max_depth=6, min_samples_leaf=9, min_samples_split=7, n_estimators=30; total time=   0.0s\n",
      "[CV] END max_depth=6, min_samples_leaf=9, min_samples_split=7, n_estimators=30; total time=   0.0s\n",
      "[CV] END max_depth=6, min_samples_leaf=9, min_samples_split=8, n_estimators=10; total time=   0.0s\n",
      "[CV] END max_depth=6, min_samples_leaf=9, min_samples_split=8, n_estimators=10; total time=   0.0s\n",
      "[CV] END max_depth=6, min_samples_leaf=9, min_samples_split=8, n_estimators=20; total time=   0.0s\n",
      "[CV] END max_depth=6, min_samples_leaf=9, min_samples_split=8, n_estimators=20; total time=   0.0s\n",
      "[CV] END max_depth=6, min_samples_leaf=9, min_samples_split=8, n_estimators=30; total time=   0.0s\n",
      "[CV] END max_depth=6, min_samples_leaf=9, min_samples_split=8, n_estimators=30; total time=   0.0s\n",
      "[CV] END max_depth=6, min_samples_leaf=9, min_samples_split=9, n_estimators=10; total time=   0.0s\n",
      "[CV] END max_depth=6, min_samples_leaf=9, min_samples_split=9, n_estimators=10; total time=   0.0s\n",
      "[CV] END max_depth=6, min_samples_leaf=9, min_samples_split=9, n_estimators=20; total time=   0.0s\n",
      "[CV] END max_depth=6, min_samples_leaf=9, min_samples_split=9, n_estimators=20; total time=   0.0s\n",
      "[CV] END max_depth=6, min_samples_leaf=9, min_samples_split=9, n_estimators=30; total time=   0.0s\n",
      "[CV] END max_depth=6, min_samples_leaf=9, min_samples_split=9, n_estimators=30; total time=   0.0s\n",
      "[CV] END max_depth=6, min_samples_leaf=10, min_samples_split=7, n_estimators=10; total time=   0.0s\n",
      "[CV] END max_depth=6, min_samples_leaf=10, min_samples_split=7, n_estimators=10; total time=   0.0s\n",
      "[CV] END max_depth=6, min_samples_leaf=10, min_samples_split=7, n_estimators=20; total time=   0.0s\n",
      "[CV] END max_depth=6, min_samples_leaf=10, min_samples_split=7, n_estimators=20; total time=   0.0s\n",
      "[CV] END max_depth=6, min_samples_leaf=10, min_samples_split=7, n_estimators=30; total time=   0.0s\n",
      "[CV] END max_depth=6, min_samples_leaf=10, min_samples_split=7, n_estimators=30; total time=   0.0s\n",
      "[CV] END max_depth=6, min_samples_leaf=10, min_samples_split=8, n_estimators=10; total time=   0.0s\n",
      "[CV] END max_depth=6, min_samples_leaf=10, min_samples_split=8, n_estimators=10; total time=   0.0s\n",
      "[CV] END max_depth=6, min_samples_leaf=10, min_samples_split=8, n_estimators=20; total time=   0.0s\n",
      "[CV] END max_depth=6, min_samples_leaf=10, min_samples_split=8, n_estimators=20; total time=   0.0s\n",
      "[CV] END max_depth=6, min_samples_leaf=10, min_samples_split=8, n_estimators=30; total time=   0.0s\n",
      "[CV] END max_depth=6, min_samples_leaf=10, min_samples_split=8, n_estimators=30; total time=   0.0s\n",
      "[CV] END max_depth=6, min_samples_leaf=10, min_samples_split=9, n_estimators=10; total time=   0.0s\n",
      "[CV] END max_depth=6, min_samples_leaf=10, min_samples_split=9, n_estimators=10; total time=   0.0s\n",
      "[CV] END max_depth=6, min_samples_leaf=10, min_samples_split=9, n_estimators=20; total time=   0.0s\n",
      "[CV] END max_depth=6, min_samples_leaf=10, min_samples_split=9, n_estimators=20; total time=   0.0s\n",
      "[CV] END max_depth=6, min_samples_leaf=10, min_samples_split=9, n_estimators=30; total time=   0.0s\n",
      "[CV] END max_depth=6, min_samples_leaf=10, min_samples_split=9, n_estimators=30; total time=   0.0s\n",
      "[CV] END max_depth=6, min_samples_leaf=8, min_samples_split=7, n_estimators=10; total time=   0.0s\n",
      "[CV] END max_depth=6, min_samples_leaf=8, min_samples_split=7, n_estimators=10; total time=   0.0s\n",
      "[CV] END max_depth=6, min_samples_leaf=8, min_samples_split=7, n_estimators=20; total time=   0.0s\n",
      "[CV] END max_depth=6, min_samples_leaf=8, min_samples_split=7, n_estimators=20; total time=   0.0s\n",
      "[CV] END max_depth=6, min_samples_leaf=8, min_samples_split=7, n_estimators=30; total time=   0.0s\n",
      "[CV] END max_depth=6, min_samples_leaf=8, min_samples_split=7, n_estimators=30; total time=   0.0s\n",
      "[CV] END max_depth=6, min_samples_leaf=8, min_samples_split=8, n_estimators=10; total time=   0.0s\n",
      "[CV] END max_depth=6, min_samples_leaf=8, min_samples_split=8, n_estimators=10; total time=   0.0s\n",
      "[CV] END max_depth=6, min_samples_leaf=8, min_samples_split=8, n_estimators=20; total time=   0.0s\n",
      "[CV] END max_depth=6, min_samples_leaf=8, min_samples_split=8, n_estimators=20; total time=   0.0s\n",
      "[CV] END max_depth=6, min_samples_leaf=8, min_samples_split=8, n_estimators=30; total time=   0.0s\n",
      "[CV] END max_depth=6, min_samples_leaf=8, min_samples_split=8, n_estimators=30; total time=   0.0s\n",
      "[CV] END max_depth=6, min_samples_leaf=8, min_samples_split=9, n_estimators=10; total time=   0.0s\n",
      "[CV] END max_depth=6, min_samples_leaf=8, min_samples_split=9, n_estimators=10; total time=   0.0s\n",
      "[CV] END max_depth=6, min_samples_leaf=8, min_samples_split=9, n_estimators=20; total time=   0.0s\n",
      "[CV] END max_depth=6, min_samples_leaf=8, min_samples_split=9, n_estimators=20; total time=   0.0s\n",
      "[CV] END max_depth=6, min_samples_leaf=8, min_samples_split=9, n_estimators=30; total time=   0.0s\n",
      "[CV] END max_depth=6, min_samples_leaf=8, min_samples_split=9, n_estimators=30; total time=   0.0s\n",
      "Fitting 2 folds for each of 81 candidates, totalling 162 fits\n",
      "[CV] END max_depth=6, min_samples_leaf=9, min_samples_split=7, n_estimators=10; total time=   0.0s\n",
      "[CV] END max_depth=6, min_samples_leaf=9, min_samples_split=7, n_estimators=10; total time=   0.0s\n",
      "[CV] END max_depth=6, min_samples_leaf=9, min_samples_split=7, n_estimators=20; total time=   0.0s\n",
      "[CV] END max_depth=6, min_samples_leaf=9, min_samples_split=7, n_estimators=20; total time=   0.0s\n",
      "[CV] END max_depth=6, min_samples_leaf=9, min_samples_split=7, n_estimators=30; total time=   0.0s\n",
      "[CV] END max_depth=6, min_samples_leaf=9, min_samples_split=7, n_estimators=30; total time=   0.0s\n",
      "[CV] END max_depth=6, min_samples_leaf=9, min_samples_split=8, n_estimators=10; total time=   0.0s\n",
      "[CV] END max_depth=6, min_samples_leaf=9, min_samples_split=8, n_estimators=10; total time=   0.0s\n",
      "[CV] END max_depth=6, min_samples_leaf=9, min_samples_split=8, n_estimators=20; total time=   0.0s\n",
      "[CV] END max_depth=6, min_samples_leaf=9, min_samples_split=8, n_estimators=20; total time=   0.0s\n",
      "[CV] END max_depth=6, min_samples_leaf=9, min_samples_split=8, n_estimators=30; total time=   0.0s\n",
      "[CV] END max_depth=6, min_samples_leaf=9, min_samples_split=8, n_estimators=30; total time=   0.0s\n",
      "[CV] END max_depth=6, min_samples_leaf=9, min_samples_split=9, n_estimators=10; total time=   0.0s\n",
      "[CV] END max_depth=6, min_samples_leaf=9, min_samples_split=9, n_estimators=10; total time=   0.0s\n",
      "[CV] END max_depth=6, min_samples_leaf=9, min_samples_split=9, n_estimators=20; total time=   0.0s\n",
      "[CV] END max_depth=6, min_samples_leaf=9, min_samples_split=9, n_estimators=20; total time=   0.0s\n",
      "[CV] END max_depth=6, min_samples_leaf=9, min_samples_split=9, n_estimators=30; total time=   0.0s\n",
      "[CV] END max_depth=6, min_samples_leaf=9, min_samples_split=9, n_estimators=30; total time=   0.0s\n",
      "[CV] END max_depth=6, min_samples_leaf=10, min_samples_split=7, n_estimators=10; total time=   0.0s\n",
      "[CV] END max_depth=6, min_samples_leaf=10, min_samples_split=7, n_estimators=10; total time=   0.0s\n",
      "[CV] END max_depth=6, min_samples_leaf=10, min_samples_split=7, n_estimators=20; total time=   0.0s\n",
      "[CV] END max_depth=6, min_samples_leaf=10, min_samples_split=7, n_estimators=20; total time=   0.0s\n",
      "[CV] END max_depth=6, min_samples_leaf=10, min_samples_split=7, n_estimators=30; total time=   0.0s\n",
      "[CV] END max_depth=6, min_samples_leaf=10, min_samples_split=7, n_estimators=30; total time=   0.0s\n",
      "[CV] END max_depth=6, min_samples_leaf=10, min_samples_split=8, n_estimators=10; total time=   0.0s\n",
      "[CV] END max_depth=6, min_samples_leaf=10, min_samples_split=8, n_estimators=10; total time=   0.0s\n",
      "[CV] END max_depth=6, min_samples_leaf=10, min_samples_split=8, n_estimators=20; total time=   0.0s\n",
      "[CV] END max_depth=6, min_samples_leaf=10, min_samples_split=8, n_estimators=20; total time=   0.0s\n",
      "[CV] END max_depth=6, min_samples_leaf=10, min_samples_split=8, n_estimators=30; total time=   0.0s\n",
      "[CV] END max_depth=6, min_samples_leaf=10, min_samples_split=8, n_estimators=30; total time=   0.0s\n",
      "[CV] END max_depth=6, min_samples_leaf=10, min_samples_split=9, n_estimators=10; total time=   0.0s\n",
      "[CV] END max_depth=6, min_samples_leaf=10, min_samples_split=9, n_estimators=10; total time=   0.0s\n",
      "[CV] END max_depth=6, min_samples_leaf=10, min_samples_split=9, n_estimators=20; total time=   0.0s\n",
      "[CV] END max_depth=6, min_samples_leaf=10, min_samples_split=9, n_estimators=20; total time=   0.0s\n",
      "[CV] END max_depth=6, min_samples_leaf=10, min_samples_split=9, n_estimators=30; total time=   0.0s\n",
      "[CV] END max_depth=6, min_samples_leaf=10, min_samples_split=9, n_estimators=30; total time=   0.0s\n",
      "[CV] END max_depth=6, min_samples_leaf=8, min_samples_split=7, n_estimators=10; total time=   0.0s\n",
      "[CV] END max_depth=6, min_samples_leaf=8, min_samples_split=7, n_estimators=10; total time=   0.0s\n",
      "[CV] END max_depth=6, min_samples_leaf=8, min_samples_split=7, n_estimators=20; total time=   0.0s\n",
      "[CV] END max_depth=6, min_samples_leaf=8, min_samples_split=7, n_estimators=20; total time=   0.0s\n",
      "[CV] END max_depth=6, min_samples_leaf=8, min_samples_split=7, n_estimators=30; total time=   0.0s\n",
      "[CV] END max_depth=6, min_samples_leaf=8, min_samples_split=7, n_estimators=30; total time=   0.0s\n",
      "[CV] END max_depth=6, min_samples_leaf=8, min_samples_split=8, n_estimators=10; total time=   0.0s\n",
      "[CV] END max_depth=6, min_samples_leaf=8, min_samples_split=8, n_estimators=10; total time=   0.0s\n",
      "[CV] END max_depth=6, min_samples_leaf=8, min_samples_split=8, n_estimators=20; total time=   0.0s\n",
      "[CV] END max_depth=6, min_samples_leaf=8, min_samples_split=8, n_estimators=20; total time=   0.0s\n",
      "[CV] END max_depth=6, min_samples_leaf=8, min_samples_split=8, n_estimators=30; total time=   0.0s\n",
      "[CV] END max_depth=6, min_samples_leaf=8, min_samples_split=8, n_estimators=30; total time=   0.0s\n",
      "[CV] END max_depth=6, min_samples_leaf=8, min_samples_split=9, n_estimators=10; total time=   0.0s\n",
      "[CV] END max_depth=6, min_samples_leaf=8, min_samples_split=9, n_estimators=10; total time=   0.0s\n",
      "[CV] END max_depth=6, min_samples_leaf=8, min_samples_split=9, n_estimators=20; total time=   0.0s\n",
      "[CV] END max_depth=6, min_samples_leaf=8, min_samples_split=9, n_estimators=20; total time=   0.0s\n",
      "[CV] END max_depth=6, min_samples_leaf=8, min_samples_split=9, n_estimators=30; total time=   0.0s\n",
      "[CV] END max_depth=6, min_samples_leaf=8, min_samples_split=9, n_estimators=30; total time=   0.0s\n",
      "[CV] END max_depth=9, min_samples_leaf=9, min_samples_split=7, n_estimators=10; total time=   0.0s\n",
      "[CV] END max_depth=9, min_samples_leaf=9, min_samples_split=7, n_estimators=10; total time=   0.0s\n",
      "[CV] END max_depth=9, min_samples_leaf=9, min_samples_split=7, n_estimators=20; total time=   0.0s\n",
      "[CV] END max_depth=9, min_samples_leaf=9, min_samples_split=7, n_estimators=20; total time=   0.0s\n",
      "[CV] END max_depth=9, min_samples_leaf=9, min_samples_split=7, n_estimators=30; total time=   0.0s\n",
      "[CV] END max_depth=9, min_samples_leaf=9, min_samples_split=7, n_estimators=30; total time=   0.0s\n",
      "[CV] END max_depth=9, min_samples_leaf=9, min_samples_split=8, n_estimators=10; total time=   0.0s\n",
      "[CV] END max_depth=9, min_samples_leaf=9, min_samples_split=8, n_estimators=10; total time=   0.0s\n",
      "[CV] END max_depth=9, min_samples_leaf=9, min_samples_split=8, n_estimators=20; total time=   0.0s\n",
      "[CV] END max_depth=9, min_samples_leaf=9, min_samples_split=8, n_estimators=20; total time=   0.0s\n",
      "[CV] END max_depth=9, min_samples_leaf=9, min_samples_split=8, n_estimators=30; total time=   0.0s\n",
      "[CV] END max_depth=9, min_samples_leaf=9, min_samples_split=8, n_estimators=30; total time=   0.0s\n",
      "[CV] END max_depth=9, min_samples_leaf=9, min_samples_split=9, n_estimators=10; total time=   0.0s\n",
      "[CV] END max_depth=9, min_samples_leaf=9, min_samples_split=9, n_estimators=10; total time=   0.0s\n",
      "[CV] END max_depth=9, min_samples_leaf=9, min_samples_split=9, n_estimators=20; total time=   0.0s\n",
      "[CV] END max_depth=9, min_samples_leaf=9, min_samples_split=9, n_estimators=20; total time=   0.0s\n",
      "[CV] END max_depth=9, min_samples_leaf=9, min_samples_split=9, n_estimators=30; total time=   0.0s\n",
      "[CV] END max_depth=9, min_samples_leaf=9, min_samples_split=9, n_estimators=30; total time=   0.0s\n",
      "[CV] END max_depth=9, min_samples_leaf=10, min_samples_split=7, n_estimators=10; total time=   0.0s\n",
      "[CV] END max_depth=9, min_samples_leaf=10, min_samples_split=7, n_estimators=10; total time=   0.0s\n",
      "[CV] END max_depth=9, min_samples_leaf=10, min_samples_split=7, n_estimators=20; total time=   0.0s\n",
      "[CV] END max_depth=9, min_samples_leaf=10, min_samples_split=7, n_estimators=20; total time=   0.0s\n",
      "[CV] END max_depth=9, min_samples_leaf=10, min_samples_split=7, n_estimators=30; total time=   0.0s\n",
      "[CV] END max_depth=9, min_samples_leaf=10, min_samples_split=7, n_estimators=30; total time=   0.0s\n",
      "[CV] END max_depth=9, min_samples_leaf=10, min_samples_split=8, n_estimators=10; total time=   0.0s\n",
      "[CV] END max_depth=9, min_samples_leaf=10, min_samples_split=8, n_estimators=10; total time=   0.0s\n",
      "[CV] END max_depth=9, min_samples_leaf=10, min_samples_split=8, n_estimators=20; total time=   0.0s\n",
      "[CV] END max_depth=9, min_samples_leaf=10, min_samples_split=8, n_estimators=20; total time=   0.0s\n",
      "[CV] END max_depth=9, min_samples_leaf=10, min_samples_split=8, n_estimators=30; total time=   0.0s\n",
      "[CV] END max_depth=9, min_samples_leaf=10, min_samples_split=8, n_estimators=30; total time=   0.0s\n",
      "[CV] END max_depth=9, min_samples_leaf=10, min_samples_split=9, n_estimators=10; total time=   0.0s\n",
      "[CV] END max_depth=9, min_samples_leaf=10, min_samples_split=9, n_estimators=10; total time=   0.0s\n",
      "[CV] END max_depth=9, min_samples_leaf=10, min_samples_split=9, n_estimators=20; total time=   0.0s\n",
      "[CV] END max_depth=9, min_samples_leaf=10, min_samples_split=9, n_estimators=20; total time=   0.0s\n",
      "[CV] END max_depth=9, min_samples_leaf=10, min_samples_split=9, n_estimators=30; total time=   0.0s\n",
      "[CV] END max_depth=9, min_samples_leaf=10, min_samples_split=9, n_estimators=30; total time=   0.0s\n",
      "[CV] END max_depth=9, min_samples_leaf=8, min_samples_split=7, n_estimators=10; total time=   0.0s\n",
      "[CV] END max_depth=9, min_samples_leaf=8, min_samples_split=7, n_estimators=10; total time=   0.0s\n",
      "[CV] END max_depth=9, min_samples_leaf=8, min_samples_split=7, n_estimators=20; total time=   0.0s\n",
      "[CV] END max_depth=9, min_samples_leaf=8, min_samples_split=7, n_estimators=20; total time=   0.0s\n",
      "[CV] END max_depth=9, min_samples_leaf=8, min_samples_split=7, n_estimators=30; total time=   0.0s\n",
      "[CV] END max_depth=9, min_samples_leaf=8, min_samples_split=7, n_estimators=30; total time=   0.0s\n",
      "[CV] END max_depth=9, min_samples_leaf=8, min_samples_split=8, n_estimators=10; total time=   0.0s\n",
      "[CV] END max_depth=9, min_samples_leaf=8, min_samples_split=8, n_estimators=10; total time=   0.0s\n",
      "[CV] END max_depth=9, min_samples_leaf=8, min_samples_split=8, n_estimators=20; total time=   0.0s\n",
      "[CV] END max_depth=9, min_samples_leaf=8, min_samples_split=8, n_estimators=20; total time=   0.0s\n",
      "[CV] END max_depth=9, min_samples_leaf=8, min_samples_split=8, n_estimators=30; total time=   0.0s\n",
      "[CV] END max_depth=9, min_samples_leaf=8, min_samples_split=8, n_estimators=30; total time=   0.0s\n",
      "[CV] END max_depth=9, min_samples_leaf=8, min_samples_split=9, n_estimators=10; total time=   0.0s\n",
      "[CV] END max_depth=9, min_samples_leaf=8, min_samples_split=9, n_estimators=10; total time=   0.0s\n",
      "[CV] END max_depth=9, min_samples_leaf=8, min_samples_split=9, n_estimators=20; total time=   0.0s\n",
      "[CV] END max_depth=9, min_samples_leaf=8, min_samples_split=9, n_estimators=20; total time=   0.0s\n",
      "[CV] END max_depth=9, min_samples_leaf=8, min_samples_split=9, n_estimators=30; total time=   0.0s\n",
      "[CV] END max_depth=9, min_samples_leaf=8, min_samples_split=9, n_estimators=30; total time=   0.0s\n",
      "[CV] END max_depth=6, min_samples_leaf=9, min_samples_split=7, n_estimators=10; total time=   0.0s\n",
      "[CV] END max_depth=6, min_samples_leaf=9, min_samples_split=7, n_estimators=10; total time=   0.0s\n",
      "[CV] END max_depth=6, min_samples_leaf=9, min_samples_split=7, n_estimators=20; total time=   0.0s\n",
      "[CV] END max_depth=6, min_samples_leaf=9, min_samples_split=7, n_estimators=20; total time=   0.0s\n",
      "[CV] END max_depth=6, min_samples_leaf=9, min_samples_split=7, n_estimators=30; total time=   0.0s\n",
      "[CV] END max_depth=6, min_samples_leaf=9, min_samples_split=7, n_estimators=30; total time=   0.0s\n",
      "[CV] END max_depth=6, min_samples_leaf=9, min_samples_split=8, n_estimators=10; total time=   0.0s\n",
      "[CV] END max_depth=6, min_samples_leaf=9, min_samples_split=8, n_estimators=10; total time=   0.0s\n",
      "[CV] END max_depth=6, min_samples_leaf=9, min_samples_split=8, n_estimators=20; total time=   0.0s\n",
      "[CV] END max_depth=6, min_samples_leaf=9, min_samples_split=8, n_estimators=20; total time=   0.0s\n",
      "[CV] END max_depth=6, min_samples_leaf=9, min_samples_split=8, n_estimators=30; total time=   0.0s\n",
      "[CV] END max_depth=6, min_samples_leaf=9, min_samples_split=8, n_estimators=30; total time=   0.0s\n",
      "[CV] END max_depth=6, min_samples_leaf=9, min_samples_split=9, n_estimators=10; total time=   0.0s\n",
      "[CV] END max_depth=6, min_samples_leaf=9, min_samples_split=9, n_estimators=10; total time=   0.0s\n",
      "[CV] END max_depth=6, min_samples_leaf=9, min_samples_split=9, n_estimators=20; total time=   0.0s\n",
      "[CV] END max_depth=6, min_samples_leaf=9, min_samples_split=9, n_estimators=20; total time=   0.0s\n",
      "[CV] END max_depth=6, min_samples_leaf=9, min_samples_split=9, n_estimators=30; total time=   0.0s\n",
      "[CV] END max_depth=6, min_samples_leaf=9, min_samples_split=9, n_estimators=30; total time=   0.0s\n",
      "[CV] END max_depth=6, min_samples_leaf=10, min_samples_split=7, n_estimators=10; total time=   0.0s\n",
      "[CV] END max_depth=6, min_samples_leaf=10, min_samples_split=7, n_estimators=10; total time=   0.0s\n",
      "[CV] END max_depth=6, min_samples_leaf=10, min_samples_split=7, n_estimators=20; total time=   0.0s\n",
      "[CV] END max_depth=6, min_samples_leaf=10, min_samples_split=7, n_estimators=20; total time=   0.0s\n",
      "[CV] END max_depth=6, min_samples_leaf=10, min_samples_split=7, n_estimators=30; total time=   0.0s\n",
      "[CV] END max_depth=6, min_samples_leaf=10, min_samples_split=7, n_estimators=30; total time=   0.0s\n",
      "[CV] END max_depth=6, min_samples_leaf=10, min_samples_split=8, n_estimators=10; total time=   0.0s\n",
      "[CV] END max_depth=6, min_samples_leaf=10, min_samples_split=8, n_estimators=10; total time=   0.0s\n",
      "[CV] END max_depth=6, min_samples_leaf=10, min_samples_split=8, n_estimators=20; total time=   0.0s\n",
      "[CV] END max_depth=6, min_samples_leaf=10, min_samples_split=8, n_estimators=20; total time=   0.0s\n",
      "[CV] END max_depth=6, min_samples_leaf=10, min_samples_split=8, n_estimators=30; total time=   0.0s\n",
      "[CV] END max_depth=6, min_samples_leaf=10, min_samples_split=8, n_estimators=30; total time=   0.0s\n",
      "[CV] END max_depth=6, min_samples_leaf=10, min_samples_split=9, n_estimators=10; total time=   0.0s\n",
      "[CV] END max_depth=6, min_samples_leaf=10, min_samples_split=9, n_estimators=10; total time=   0.0s\n",
      "[CV] END max_depth=6, min_samples_leaf=10, min_samples_split=9, n_estimators=20; total time=   0.0s\n",
      "[CV] END max_depth=6, min_samples_leaf=10, min_samples_split=9, n_estimators=20; total time=   0.0s\n",
      "[CV] END max_depth=6, min_samples_leaf=10, min_samples_split=9, n_estimators=30; total time=   0.0s\n",
      "[CV] END max_depth=6, min_samples_leaf=10, min_samples_split=9, n_estimators=30; total time=   0.0s\n",
      "[CV] END max_depth=6, min_samples_leaf=8, min_samples_split=7, n_estimators=10; total time=   0.0s\n",
      "[CV] END max_depth=6, min_samples_leaf=8, min_samples_split=7, n_estimators=10; total time=   0.0s\n",
      "[CV] END max_depth=6, min_samples_leaf=8, min_samples_split=7, n_estimators=20; total time=   0.0s\n",
      "[CV] END max_depth=6, min_samples_leaf=8, min_samples_split=7, n_estimators=20; total time=   0.0s\n",
      "[CV] END max_depth=6, min_samples_leaf=8, min_samples_split=7, n_estimators=30; total time=   0.0s\n",
      "[CV] END max_depth=6, min_samples_leaf=8, min_samples_split=7, n_estimators=30; total time=   0.0s\n",
      "[CV] END max_depth=6, min_samples_leaf=8, min_samples_split=8, n_estimators=10; total time=   0.0s\n",
      "[CV] END max_depth=6, min_samples_leaf=8, min_samples_split=8, n_estimators=10; total time=   0.0s\n",
      "[CV] END max_depth=6, min_samples_leaf=8, min_samples_split=8, n_estimators=20; total time=   0.0s\n",
      "[CV] END max_depth=6, min_samples_leaf=8, min_samples_split=8, n_estimators=20; total time=   0.0s\n",
      "[CV] END max_depth=6, min_samples_leaf=8, min_samples_split=8, n_estimators=30; total time=   0.0s\n",
      "[CV] END max_depth=6, min_samples_leaf=8, min_samples_split=8, n_estimators=30; total time=   0.0s\n",
      "[CV] END max_depth=6, min_samples_leaf=8, min_samples_split=9, n_estimators=10; total time=   0.0s\n",
      "[CV] END max_depth=6, min_samples_leaf=8, min_samples_split=9, n_estimators=10; total time=   0.0s\n",
      "[CV] END max_depth=6, min_samples_leaf=8, min_samples_split=9, n_estimators=20; total time=   0.0s\n",
      "[CV] END max_depth=6, min_samples_leaf=8, min_samples_split=9, n_estimators=20; total time=   0.0s\n",
      "[CV] END max_depth=6, min_samples_leaf=8, min_samples_split=9, n_estimators=30; total time=   0.0s\n",
      "[CV] END max_depth=6, min_samples_leaf=8, min_samples_split=9, n_estimators=30; total time=   0.0s\n",
      "THE CROSS VALIDATION IS 44.202370399553494%\n"
     ]
    }
   ],
   "source": [
    "from sklearn.model_selection import cross_val_score\n",
    "cros_RF=cross_val_score(estimator=grid_model_RF,X=x_train,y=y1_train,cv=2)\n",
    "fina_rf_CV=(cros_RF.mean()*100)\n",
    "print(f'THE CROSS VALIDATION IS {fina_rf_CV}%')"
   ]
  },
  {
   "cell_type": "code",
   "execution_count": 27,
   "metadata": {},
   "outputs": [
    {
     "data": {
      "image/png": "[encoded data removed]",
      "text/plain": [
       "<Figure size 640x480 with 2 Axes>"
      ]
     },
     "metadata": {},
     "output_type": "display_data"
    }
   ],
   "source": [
    "def ploT_rf(x):\n",
    "    from sklearn.metrics import ConfusionMatrixDisplay\n",
    "    DIS_RF=ConfusionMatrixDisplay(confusion_matrix=x)\n",
    "    DIS_RF.plot(cmap='cool')\n",
    "    plt.show()\n",
    "    \n",
    "ploT_rf(CM_RF)\n",
    "    "
   ]
  },
  {
   "cell_type": "markdown",
   "metadata": {},
   "source": [
    "### LOGISTIC REGRESSION MODEL "
   ]
  },
  {
   "cell_type": "code",
   "execution_count": 28,
   "metadata": {},
   "outputs": [],
   "source": [
    "from sklearn.linear_model import LogisticRegression"
   ]
  },
  {
   "cell_type": "code",
   "execution_count": 29,
   "metadata": {},
   "outputs": [],
   "source": [
    "def model_3(x,y):\n",
    "    modell=LogisticRegression()\n",
    "    modell.fit(x,y)\n",
    "    return modell\n",
    "\n",
    "model_lr=model_3(x_train,y1_train)"
   ]
  },
  {
   "cell_type": "code",
   "execution_count": 30,
   "metadata": {},
   "outputs": [],
   "source": [
    "Y1_PRED_LR=model_lr.predict(x_test)"
   ]
  },
  {
   "cell_type": "code",
   "execution_count": 31,
   "metadata": {},
   "outputs": [
    {
     "name": "stdout",
     "output_type": "stream",
     "text": [
      "=------------THE EVALUATION OF LOGISTIC REGRESSION MODEL-----------------=\n",
      "THE ACCURACY SCORE OF LOGISTIC REGRESSION IS 61.892583120204606%\n",
      "THE classification report OF LOGISTIC REGRESSION IS               precision    recall  f1-score   support\n",
      "\n",
      "           0       0.79      0.78      0.78        58\n",
      "           1       0.89      0.66      0.76        64\n",
      "           2       0.56      0.34      0.43        64\n",
      "           3       0.49      0.86      0.63        50\n",
      "           4       0.71      0.69      0.70        51\n",
      "           5       0.62      0.50      0.55        56\n",
      "           6       0.40      0.56      0.47        48\n",
      "\n",
      "    accuracy                           0.62       391\n",
      "   macro avg       0.64      0.63      0.62       391\n",
      "weighted avg       0.65      0.62      0.62       391\n",
      "\n",
      "THE confusion_matrix  OF LOGISTIC REGRESSION IS [[45  1  1  4  4  2  1]\n",
      " [ 0 42  4  7  4  4  3]\n",
      " [ 5  2 22  8  2  4 21]\n",
      " [ 2  0  0 43  1  1  3]\n",
      " [ 2  0  1  6 35  2  5]\n",
      " [ 3  2  3 11  2 28  7]\n",
      " [ 0  0  8  8  1  4 27]]\n"
     ]
    }
   ],
   "source": [
    "def Logistic_Regression_METRICS(M,N):\n",
    "    from sklearn.metrics import accuracy_score,classification_report,confusion_matrix\n",
    "    print(F'=------------THE EVALUATION OF LOGISTIC REGRESSION MODEL-----------------=')\n",
    "\n",
    "    ACCURACY_SCORE_LR=accuracy_score(M,N)\n",
    "    print(F'THE ACCURACY SCORE OF LOGISTIC REGRESSION IS {ACCURACY_SCORE_LR*100}%')\n",
    "    \n",
    "    \n",
    "    classification_report_LR=classification_report(M,N)\n",
    "    print(F'THE classification report OF LOGISTIC REGRESSION IS {classification_report_LR}')\n",
    "    \n",
    "    \n",
    "    \n",
    "    confusion_matrix_LR=confusion_matrix(M,N)\n",
    "    print(F'THE confusion_matrix  OF LOGISTIC REGRESSION IS {confusion_matrix_LR}')\n",
    "    \n",
    "    return ACCURACY_SCORE_LR,classification_report_LR,confusion_matrix_LR\n",
    "    \n",
    "    \n",
    "    \n",
    "ACCURACY_SCORE_LR,classification_report_LR,confusion_matrix_LR=Logistic_Regression_METRICS(y1_test,Y1_PRED_LR)\n",
    "    "
   ]
  },
  {
   "cell_type": "code",
   "execution_count": 32,
   "metadata": {},
   "outputs": [
    {
     "data": {
      "text/plain": [
       "<sklearn.metrics._plot.confusion_matrix.ConfusionMatrixDisplay at 0x1559850a0>"
      ]
     },
     "execution_count": 32,
     "metadata": {},
     "output_type": "execute_result"
    },
    {
     "data": {
      "image/png": "[encoded data removed]",
      "text/plain": [
       "<Figure size 640x480 with 2 Axes>"
      ]
     },
     "metadata": {},
     "output_type": "display_data"
    }
   ],
   "source": [
    "from sklearn.metrics import ConfusionMatrixDisplay\n",
    "dis_lr=ConfusionMatrixDisplay(confusion_matrix=confusion_matrix_LR)\n",
    "dis_lr.plot()"
   ]
  },
  {
   "cell_type": "code",
   "execution_count": 33,
   "metadata": {},
   "outputs": [
    {
     "name": "stdout",
     "output_type": "stream",
     "text": [
      "THE CROSS VALIDATION OF LOGISTIC REGRESSION IS 61.11444893135034%\n"
     ]
    }
   ],
   "source": [
    "from sklearn.model_selection import cross_val_score\n",
    "crosS_val_LR=cross_val_score(estimator=model_lr,X=x_train,y=y1_train,cv=2)\n",
    "final_cr=(crosS_val_LR.mean()*100)\n",
    "print(f'THE CROSS VALIDATION OF LOGISTIC REGRESSION IS {final_cr}%')"
   ]
  },
  {
   "cell_type": "markdown",
   "metadata": {},
   "source": [
    "## TESING OF NLP WITH LOGISTIC REGRESSION MODEL LOGISTIC REGRESSION \n"
   ]
  },
  {
   "cell_type": "code",
   "execution_count": 34,
   "metadata": {},
   "outputs": [
    {
     "name": "stdout",
     "output_type": "stream",
     "text": [
      "-------------------THE PREDICTION FOR THIS SENTENCE IS ------------------------------\n",
      "THE ENTERED TEXT IS i am happy\n",
      "THE SENTENCE TOKEN OF ENTER SENTENCE  IS ['i am happy']\n",
      "THE WORD TOKEN OF ENTER SENTENCE  IS ['i', 'am', 'happy']\n",
      "THE SENTENCE AFTER STOP WORDS  OF ENTER SENTENCE  IS ['happy']\n",
      "THE SENTENCE  LEMMATIZATION IS ['happy']\n",
      "THE PREDICTIION  > ['Depression']\n"
     ]
    }
   ],
   "source": [
    "print('-------------------THE PREDICTION FOR THIS SENTENCE IS ------------------------------')\n",
    "def testing(text):\n",
    "    print(F'THE ENTERED TEXT IS {text}')\n",
    "    TES_SEN=sent_tokenize(text)\n",
    "    print(f'THE SENTENCE TOKEN OF ENTER SENTENCE  IS {TES_SEN}')\n",
    "    \n",
    "    TES_WORD=word_tokenize(text)\n",
    "    print(f'THE WORD TOKEN OF ENTER SENTENCE  IS {TES_WORD}')\n",
    "    \n",
    "    TES_STOP_WORD=[i for i in TES_WORD if i.lower() not in stop_words and i.isalpha()]\n",
    "    print(f'THE SENTENCE AFTER STOP WORDS  OF ENTER SENTENCE  IS {TES_STOP_WORD}')\n",
    "    \n",
    "    TES_LEM=[LEM.lemmatize(word.lower())for word in TES_STOP_WORD]\n",
    "    print(f'THE SENTENCE  LEMMATIZATION IS {TES_LEM}')\n",
    "    \n",
    "    doc=nlp(text)\n",
    "    for j in doc.ents:\n",
    "        j.text,\">>>>>\",j.label_\n",
    "        \n",
    "\n",
    "        \n",
    "    \n",
    "    return \" \".join(TES_LEM)\n",
    "\n",
    "\n",
    "tes_1=input('ENTER YOUR THOUGHTS:  ')\n",
    "input_test=testing(tes_1)\n",
    "\n",
    "vec_test=vec_data.transform([input_test])\n",
    "predetict_1=model_lr.predict(vec_test)\n",
    "\n",
    "inver_predict=lb.inverse_transform(predetict_1)\n",
    "print(f'THE PREDICTIION  > {inver_predict}')"
   ]
  },
  {
   "cell_type": "markdown",
   "metadata": {},
   "source": [
    "### 2ND PREDICTION "
   ]
  },
  {
   "cell_type": "code",
   "execution_count": 51,
   "metadata": {},
   "outputs": [
    {
     "name": "stdout",
     "output_type": "stream",
     "text": [
      "-------------------THE PREDICTION FOR THIS SENTENCE IS 2  ------------------------------\n",
      "THE SENTENCE TOKEN OF ENTER SENTENCE  IS [\"iNo reasons to be unhappy yet I am Had depression ages ago and I think it's creeping back, although it doesn't feel as severe as it was last time.\", \"Before it was work stress, this time there's really not anything.\", \"The hardest part for me right now is I don't have any reason to be unhappy, nothing I can really point to and say this is making me feel like crap, and that makes me like a bratty little B crying and complaining  There's nothing really to talk to others about because again, there's nothing that I'd even remotely describe as saddening or upsetting.\", \"Now I'm stuck being frustrated, pissed, and sad a lot of the time which makes me feel even more bratty and cannot break the cycle.\", \"Anyone on the same boat or have been on the same boat that don't mind sharing how to get out?\"]\n",
      "THE WORD TOKEN OF ENTER SENTENCE  IS ['iNo', 'reasons', 'to', 'be', 'unhappy', 'yet', 'I', 'am', 'Had', 'depression', 'ages', 'ago', 'and', 'I', 'think', 'it', \"'s\", 'creeping', 'back', ',', 'although', 'it', 'does', \"n't\", 'feel', 'as', 'severe', 'as', 'it', 'was', 'last', 'time', '.', 'Before', 'it', 'was', 'work', 'stress', ',', 'this', 'time', 'there', \"'s\", 'really', 'not', 'anything', '.', 'The', 'hardest', 'part', 'for', 'me', 'right', 'now', 'is', 'I', 'do', \"n't\", 'have', 'any', 'reason', 'to', 'be', 'unhappy', ',', 'nothing', 'I', 'can', 'really', 'point', 'to', 'and', 'say', 'this', 'is', 'making', 'me', 'feel', 'like', 'crap', ',', 'and', 'that', 'makes', 'me', 'like', 'a', 'bratty', 'little', 'B', 'crying', 'and', 'complaining', 'There', \"'s\", 'nothing', 'really', 'to', 'talk', 'to', 'others', 'about', 'because', 'again', ',', 'there', \"'s\", 'nothing', 'that', 'I', \"'d\", 'even', 'remotely', 'describe', 'as', 'saddening', 'or', 'upsetting', '.', 'Now', 'I', \"'m\", 'stuck', 'being', 'frustrated', ',', 'pissed', ',', 'and', 'sad', 'a', 'lot', 'of', 'the', 'time', 'which', 'makes', 'me', 'feel', 'even', 'more', 'bratty', 'and', 'can', 'not', 'break', 'the', 'cycle', '.', 'Anyone', 'on', 'the', 'same', 'boat', 'or', 'have', 'been', 'on', 'the', 'same', 'boat', 'that', 'do', \"n't\", 'mind', 'sharing', 'how', 'to', 'get', 'out', '?']\n",
      "THE SENTENCE AFTER STOP WORDS  OF ENTER SENTENCE  IS ['iNo', 'reasons', 'unhappy', 'yet', 'depression', 'ages', 'ago', 'think', 'creeping', 'back', 'although', 'feel', 'severe', 'last', 'time', 'work', 'stress', 'time', 'really', 'anything', 'hardest', 'part', 'right', 'reason', 'unhappy', 'nothing', 'really', 'point', 'say', 'making', 'feel', 'like', 'crap', 'makes', 'like', 'bratty', 'little', 'B', 'crying', 'complaining', 'nothing', 'really', 'talk', 'others', 'nothing', 'even', 'remotely', 'describe', 'saddening', 'upsetting', 'stuck', 'frustrated', 'pissed', 'sad', 'lot', 'time', 'makes', 'feel', 'even', 'bratty', 'break', 'cycle', 'Anyone', 'boat', 'boat', 'mind', 'sharing', 'get']\n",
      "THE SENTENCE  LEMMATIZATION IS ['ino', 'reason', 'unhappy', 'yet', 'depression', 'age', 'ago', 'think', 'creeping', 'back', 'although', 'feel', 'severe', 'last', 'time', 'work', 'stress', 'time', 'really', 'anything', 'hardest', 'part', 'right', 'reason', 'unhappy', 'nothing', 'really', 'point', 'say', 'making', 'feel', 'like', 'crap', 'make', 'like', 'bratty', 'little', 'b', 'cry', 'complaining', 'nothing', 'really', 'talk', 'others', 'nothing', 'even', 'remotely', 'describe', 'saddening', 'upsetting', 'stuck', 'frustrated', 'pissed', 'sad', 'lot', 'time', 'make', 'feel', 'even', 'bratty', 'break', 'cycle', 'anyone', 'boat', 'boat', 'mind', 'sharing', 'get']\n",
      "THE PREDICTIION  > ['Depression']\n"
     ]
    }
   ],
   "source": [
    "print('-------------------THE PREDICTION FOR THIS SENTENCE IS 2  ------------------------------')\n",
    "def testing(text):\n",
    "    TES_SEN=sent_tokenize(text)\n",
    "    print(f'THE SENTENCE TOKEN OF ENTER SENTENCE  IS {TES_SEN}')\n",
    "    \n",
    "    TES_WORD=word_tokenize(text)\n",
    "    print(f'THE WORD TOKEN OF ENTER SENTENCE  IS {TES_WORD}')\n",
    "    \n",
    "    TES_STOP_WORD=[i for i in TES_WORD if i.lower() not in stop_words and i.isalpha()]\n",
    "    print(f'THE SENTENCE AFTER STOP WORDS  OF ENTER SENTENCE  IS {TES_STOP_WORD}')\n",
    "    \n",
    "    TES_LEM=[LEM.lemmatize(word.lower())for word in TES_STOP_WORD]\n",
    "    print(f'THE SENTENCE  LEMMATIZATION IS {TES_LEM}')\n",
    "    \n",
    "    doc=nlp(text)\n",
    "    for j in doc.ents:\n",
    "        j.text,\">>>>>\",j.label_\n",
    "        \n",
    "\n",
    "        \n",
    "    \n",
    "    return \" \".join(TES_LEM)\n",
    "\n",
    "\n",
    "tes_1=input('ENTER YOUR THOUGHTS:  ')\n",
    "input_test=testing(tes_1)\n",
    "\n",
    "vec_test=vec_data.transform([input_test])\n",
    "predetict_1=model_lr.predict(vec_test)\n",
    "\n",
    "inver_predict=lb.inverse_transform(predetict_1)\n",
    "print(f'THE PREDICTIION  > {inver_predict}')"
   ]
  },
  {
   "cell_type": "code",
   "execution_count": 48,
   "metadata": {},
   "outputs": [
    {
     "data": {
      "text/plain": [
       "['vec.pkl']"
      ]
     },
     "execution_count": 48,
     "metadata": {},
     "output_type": "execute_result"
    }
   ],
   "source": [
    "import joblib\n",
    "\n",
    "joblib.dump(vec_data,'vec.pkl',protocol=4)"
   ]
  },
  {
   "cell_type": "code",
   "execution_count": 49,
   "metadata": {},
   "outputs": [
    {
     "data": {
      "text/plain": [
       "['mental.pkl']"
      ]
     },
     "execution_count": 49,
     "metadata": {},
     "output_type": "execute_result"
    }
   ],
   "source": [
    "import joblib\n",
    "joblib.dump(model_lr,'mental.pkl',protocol=4)"
   ]
  },
  {
   "cell_type": "code",
   "execution_count": 50,
   "metadata": {},
   "outputs": [
    {
     "data": {
      "text/plain": [
       "['label.pkl']"
      ]
     },
     "execution_count": 50,
     "metadata": {},
     "output_type": "execute_result"
    }
   ],
   "source": [
    "import joblib\n",
    "joblib.dump(lb,'label.pkl',protocol=4)"
   ]
  },
  {
   "cell_type": "code",
   "execution_count": null,
   "metadata": {},
   "outputs": [],
   "source": []
  },
  {
   "cell_type": "code",
   "execution_count": null,
   "metadata": {},
   "outputs": [],
   "source": []
  },
  {
   "cell_type": "code",
   "execution_count": null,
   "metadata": {},
   "outputs": [],
   "source": []
  }
 ],
 "metadata": {
  "kernelspec": {
   "display_name": "Python 3",
   "language": "python",
   "name": "python3"
  },
  "language_info": {
   "codemirror_mode": {
    "name": "ipython",
    "version": 3
   },
   "file_extension": ".py",
   "mimetype": "text/x-python",
   "name": "python",
   "nbconvert_exporter": "python",
   "pygments_lexer": "ipython3",
   "version": "3.12.6"
  }
 },
 "nbformat": 4,
 "nbformat_minor": 2
}
